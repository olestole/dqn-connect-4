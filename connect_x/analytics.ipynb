{
 "cells": [
  {
   "cell_type": "code",
   "execution_count": 250,
   "metadata": {},
   "outputs": [],
   "source": [
    "from matplotlib import pyplot as plt\n",
    "import pickle\n",
    "import os\n",
    "from history import History\n",
    "import pandas as pd\n",
    "import numpy as np"
   ]
  },
  {
   "cell_type": "code",
   "execution_count": 251,
   "metadata": {},
   "outputs": [],
   "source": [
    "HISTORY_DIR = \"../history\""
   ]
  },
  {
   "cell_type": "code",
   "execution_count": 252,
   "metadata": {},
   "outputs": [],
   "source": [
    "def create_df_from_history_ins(history_ins: int):\n",
    "    FILE_PATH = f\"{history_ins}_history.pkl\"\n",
    "    history_path = os.path.join(HISTORY_DIR, FILE_PATH)\n",
    "    with open(history_path, \"rb\") as f:    \n",
    "        history = pickle.load(f)\n",
    "        player_1_reward = history.get(\"player_1_reward\")\n",
    "        final_state = history.get(\"final_state\")\n",
    "        done_type = history.get(\"done_type\")\n",
    "        winner = history.get(\"winner\")\n",
    "\n",
    "    print(len(player_1_reward), len(final_state), len(done_type), len(winner))\n",
    "\n",
    "    df = pd.DataFrame({\n",
    "        \"player_1_reward\": player_1_reward,\n",
    "        \"final_state\": final_state,\n",
    "        \"done_type\": done_type,\n",
    "        \"winner\": winner\n",
    "    })\n",
    "    return df\n"
   ]
  },
  {
   "cell_type": "markdown",
   "metadata": {},
   "source": [
    "# Training agent against random agent for 300 episodes"
   ]
  },
  {
   "cell_type": "code",
   "execution_count": 253,
   "metadata": {},
   "outputs": [
    {
     "name": "stdout",
     "output_type": "stream",
     "text": [
      "450 450 450 450\n"
     ]
    }
   ],
   "source": [
    "df = create_df_from_history_ins(6)\n",
    "df2 = df.drop(columns=['final_state'])"
   ]
  },
  {
   "cell_type": "markdown",
   "metadata": {},
   "source": [
    "Most of all the wins are **vertical wins**\n",
    "\n",
    "Still a lot of **illegal_moves** -> Hasn't learned to not play correctly, migth be player_2"
   ]
  },
  {
   "cell_type": "code",
   "execution_count": 254,
   "metadata": {},
   "outputs": [
    {
     "data": {
      "text/plain": [
       "vertical         298\n",
       "illegal_moves     89\n",
       "horizontal        51\n",
       "diagonal          12\n",
       "Name: done_type, dtype: int64"
      ]
     },
     "execution_count": 254,
     "metadata": {},
     "output_type": "execute_result"
    }
   ],
   "source": [
    "df2['done_type'].value_counts()"
   ]
  },
  {
   "cell_type": "markdown",
   "metadata": {},
   "source": [
    "Agent 1, who also starts, wins 54.3% of the games not being ended due to illegal_moves"
   ]
  },
  {
   "cell_type": "code",
   "execution_count": 255,
   "metadata": {},
   "outputs": [
    {
     "name": "stdout",
     "output_type": "stream",
     "text": [
      "1    196\n",
      "2    165\n",
      "0     89\n",
      "Name: winner, dtype: int64\n"
     ]
    },
    {
     "data": {
      "text/plain": [
       "1    0.542936\n",
       "2    0.457064\n",
       "0    0.246537\n",
       "Name: winner, dtype: float64"
      ]
     },
     "execution_count": 255,
     "metadata": {},
     "output_type": "execute_result"
    }
   ],
   "source": [
    "print(df2['winner'].value_counts())\n",
    "win_percent = df2['winner'].value_counts() / (len(df2) - len(df2[df['done_type'] == 'illegal_moves']))\n",
    "win_percent"
   ]
  },
  {
   "cell_type": "markdown",
   "metadata": {},
   "source": [
    "40 of the 89 *illegal_moves*, 45%, are done by player 1."
   ]
  },
  {
   "cell_type": "code",
   "execution_count": 256,
   "metadata": {},
   "outputs": [
    {
     "name": "stdout",
     "output_type": "stream",
     "text": [
      "player_1_reward    40\n",
      "done_type          40\n",
      "winner             40\n",
      "dtype: int64\n"
     ]
    },
    {
     "data": {
      "text/plain": [
       "player_1_reward    0.449438\n",
       "done_type          0.449438\n",
       "winner             0.449438\n",
       "dtype: float64"
      ]
     },
     "execution_count": 256,
     "metadata": {},
     "output_type": "execute_result"
    }
   ],
   "source": [
    "illegal = df2[(df2['done_type'] == 'illegal_moves') & (df2['player_1_reward'] == -1)].count()\n",
    "illegal_percent = illegal / len(df2[df2['done_type'] == 'illegal_moves'])\n",
    "print(illegal)\n",
    "illegal_percent\n"
   ]
  },
  {
   "cell_type": "markdown",
   "metadata": {},
   "source": [
    "# Run 1000 episodes w/training_agent starting with weights main_6_200 and opponent main_6_100"
   ]
  },
  {
   "cell_type": "code",
   "execution_count": 257,
   "metadata": {},
   "outputs": [
    {
     "name": "stdout",
     "output_type": "stream",
     "text": [
      "1100 1100 1100 1100\n"
     ]
    }
   ],
   "source": [
    "history_instance = 7\n",
    "df = create_df_from_history_ins(history_instance)\n",
    "df2 = df.drop(columns=['final_state'])"
   ]
  },
  {
   "cell_type": "code",
   "execution_count": 258,
   "metadata": {},
   "outputs": [
    {
     "data": {
      "text/plain": [
       "vertical         735\n",
       "horizontal       168\n",
       "illegal_moves    155\n",
       "diagonal          42\n",
       "Name: done_type, dtype: int64"
      ]
     },
     "execution_count": 258,
     "metadata": {},
     "output_type": "execute_result"
    }
   ],
   "source": [
    "df2['done_type'].value_counts()"
   ]
  },
  {
   "cell_type": "code",
   "execution_count": 259,
   "metadata": {},
   "outputs": [
    {
     "name": "stdout",
     "output_type": "stream",
     "text": [
      "1    554\n",
      "2    391\n",
      "0    155\n",
      "Name: winner, dtype: int64\n"
     ]
    },
    {
     "data": {
      "text/plain": [
       "1    0.586243\n",
       "2    0.413757\n",
       "0    0.164021\n",
       "Name: winner, dtype: float64"
      ]
     },
     "execution_count": 259,
     "metadata": {},
     "output_type": "execute_result"
    }
   ],
   "source": [
    "print(df2['winner'].value_counts())\n",
    "win_percent = df2['winner'].value_counts() / (len(df2) - len(df2[df['done_type'] == 'illegal_moves']))\n",
    "win_percent"
   ]
  },
  {
   "cell_type": "markdown",
   "metadata": {},
   "source": [
    "Player 1 only made 40% of the illegal_moves"
   ]
  },
  {
   "cell_type": "code",
   "execution_count": 260,
   "metadata": {},
   "outputs": [
    {
     "name": "stdout",
     "output_type": "stream",
     "text": [
      "player_1_reward    63\n",
      "done_type          63\n",
      "winner             63\n",
      "dtype: int64\n"
     ]
    },
    {
     "data": {
      "text/plain": [
       "player_1_reward    0.406452\n",
       "done_type          0.406452\n",
       "winner             0.406452\n",
       "dtype: float64"
      ]
     },
     "execution_count": 260,
     "metadata": {},
     "output_type": "execute_result"
    }
   ],
   "source": [
    "illegal = df2[(df2['done_type'] == 'illegal_moves') & (df2['player_1_reward'] == -1)].count()\n",
    "illegal_percent = illegal / len(df2[df2['done_type'] == 'illegal_moves'])\n",
    "print(illegal)\n",
    "illegal_percent\n"
   ]
  },
  {
   "cell_type": "code",
   "execution_count": 261,
   "metadata": {},
   "outputs": [
    {
     "data": {
      "text/plain": [
       "player_1_reward\n",
       " 1                 554\n",
       "-1                 454\n",
       " 0                  92\n",
       "dtype: int64"
      ]
     },
     "execution_count": 261,
     "metadata": {},
     "output_type": "execute_result"
    }
   ],
   "source": [
    "df2[['player_1_reward']].value_counts()"
   ]
  },
  {
   "cell_type": "markdown",
   "metadata": {},
   "source": [
    "# 3000 episodes, opponent starts with policy 900 episodes prior"
   ]
  },
  {
   "cell_type": "code",
   "execution_count": 262,
   "metadata": {},
   "outputs": [
    {
     "name": "stdout",
     "output_type": "stream",
     "text": [
      "3110 3110 3110 3110\n"
     ]
    }
   ],
   "source": [
    "history_instance = 8\n",
    "df = create_df_from_history_ins(history_instance)\n",
    "df2 = df.drop(columns=['final_state'])"
   ]
  },
  {
   "cell_type": "markdown",
   "metadata": {},
   "source": []
  },
  {
   "cell_type": "code",
   "execution_count": 263,
   "metadata": {},
   "outputs": [
    {
     "data": {
      "text/plain": [
       "vertical         2375\n",
       "illegal_moves     360\n",
       "horizontal        335\n",
       "diagonal           40\n",
       "Name: done_type, dtype: int64"
      ]
     },
     "execution_count": 263,
     "metadata": {},
     "output_type": "execute_result"
    }
   ],
   "source": [
    "df2['done_type'].value_counts()"
   ]
  },
  {
   "cell_type": "code",
   "execution_count": 264,
   "metadata": {},
   "outputs": [
    {
     "name": "stdout",
     "output_type": "stream",
     "text": [
      "1    2194\n",
      "2     556\n",
      "0     360\n",
      "Name: winner, dtype: int64\n"
     ]
    },
    {
     "data": {
      "text/plain": [
       "1    0.797818\n",
       "2    0.202182\n",
       "0    0.130909\n",
       "Name: winner, dtype: float64"
      ]
     },
     "execution_count": 264,
     "metadata": {},
     "output_type": "execute_result"
    }
   ],
   "source": [
    "print(df2['winner'].value_counts())\n",
    "win_percent = df2['winner'].value_counts() / (len(df2) - len(df2[df['done_type'] == 'illegal_moves']))\n",
    "win_percent"
   ]
  },
  {
   "cell_type": "code",
   "execution_count": 265,
   "metadata": {},
   "outputs": [
    {
     "name": "stdout",
     "output_type": "stream",
     "text": [
      "player_1_reward    175\n",
      "done_type          175\n",
      "winner             175\n",
      "dtype: int64\n"
     ]
    },
    {
     "data": {
      "text/plain": [
       "player_1_reward    0.486111\n",
       "done_type          0.486111\n",
       "winner             0.486111\n",
       "dtype: float64"
      ]
     },
     "execution_count": 265,
     "metadata": {},
     "output_type": "execute_result"
    }
   ],
   "source": [
    "illegal = df2[(df2['done_type'] == 'illegal_moves') & (df2['player_1_reward'] == -1)].count()\n",
    "illegal_percent = illegal / len(df2[df2['done_type'] == 'illegal_moves'])\n",
    "print(illegal)\n",
    "illegal_percent\n"
   ]
  },
  {
   "cell_type": "markdown",
   "metadata": {},
   "source": [
    "# Test 500 episodes against random agent"
   ]
  },
  {
   "cell_type": "code",
   "execution_count": 266,
   "metadata": {},
   "outputs": [
    {
     "name": "stdout",
     "output_type": "stream",
     "text": [
      "100 100 100 100\n"
     ]
    }
   ],
   "source": [
    "history_instance = 9\n",
    "df = create_df_from_history_ins(history_instance)\n",
    "df2 = df.drop(columns=['final_state'])"
   ]
  },
  {
   "cell_type": "markdown",
   "metadata": {},
   "source": []
  },
  {
   "cell_type": "code",
   "execution_count": 267,
   "metadata": {},
   "outputs": [
    {
     "data": {
      "text/plain": [
       "vertical         50\n",
       "horizontal       24\n",
       "diagonal         17\n",
       "illegal_moves     9\n",
       "Name: done_type, dtype: int64"
      ]
     },
     "execution_count": 267,
     "metadata": {},
     "output_type": "execute_result"
    }
   ],
   "source": [
    "df2['done_type'].value_counts()"
   ]
  },
  {
   "cell_type": "markdown",
   "metadata": {},
   "source": [
    "The trained agent wins 82.5% of the times against the random agent"
   ]
  },
  {
   "cell_type": "code",
   "execution_count": 268,
   "metadata": {},
   "outputs": [
    {
     "name": "stdout",
     "output_type": "stream",
     "text": [
      "1    55\n",
      "2    36\n",
      "0     9\n",
      "Name: winner, dtype: int64\n"
     ]
    },
    {
     "data": {
      "text/plain": [
       "1    0.604396\n",
       "2    0.395604\n",
       "0    0.098901\n",
       "Name: winner, dtype: float64"
      ]
     },
     "execution_count": 268,
     "metadata": {},
     "output_type": "execute_result"
    }
   ],
   "source": [
    "print(df2['winner'].value_counts())\n",
    "win_percent = df2['winner'].value_counts() / (len(df2) - len(df2[df['done_type'] == 'illegal_moves']))\n",
    "win_percent"
   ]
  },
  {
   "cell_type": "markdown",
   "metadata": {},
   "source": [
    "# Training agent for 1000 episodes"
   ]
  },
  {
   "cell_type": "code",
   "execution_count": 269,
   "metadata": {},
   "outputs": [
    {
     "name": "stdout",
     "output_type": "stream",
     "text": [
      "1100 1100 1100 1100\n"
     ]
    }
   ],
   "source": [
    "df = create_df_from_history_ins(10)\n",
    "df2 = df.drop(columns=['final_state'])"
   ]
  },
  {
   "cell_type": "code",
   "execution_count": 270,
   "metadata": {},
   "outputs": [
    {
     "data": {
      "text/plain": [
       "vertical         891\n",
       "illegal_moves     92\n",
       "horizontal        70\n",
       "diagonal          47\n",
       "Name: done_type, dtype: int64"
      ]
     },
     "execution_count": 270,
     "metadata": {},
     "output_type": "execute_result"
    }
   ],
   "source": [
    "df2['done_type'].value_counts()"
   ]
  },
  {
   "cell_type": "code",
   "execution_count": 271,
   "metadata": {},
   "outputs": [
    {
     "name": "stdout",
     "output_type": "stream",
     "text": [
      "1    820\n",
      "2    188\n",
      "0     92\n",
      "Name: winner, dtype: int64\n"
     ]
    },
    {
     "data": {
      "text/plain": [
       "1    0.813492\n",
       "2    0.186508\n",
       "0    0.091270\n",
       "Name: winner, dtype: float64"
      ]
     },
     "execution_count": 271,
     "metadata": {},
     "output_type": "execute_result"
    }
   ],
   "source": [
    "print(df2['winner'].value_counts())\n",
    "win_percent = df2['winner'].value_counts() / (len(df2) - len(df2[df['done_type'] == 'illegal_moves']))\n",
    "win_percent"
   ]
  },
  {
   "cell_type": "code",
   "execution_count": 272,
   "metadata": {},
   "outputs": [
    {
     "name": "stdout",
     "output_type": "stream",
     "text": [
      "player_1_reward    42\n",
      "done_type          42\n",
      "winner             42\n",
      "dtype: int64\n"
     ]
    },
    {
     "data": {
      "text/plain": [
       "player_1_reward    0.456522\n",
       "done_type          0.456522\n",
       "winner             0.456522\n",
       "dtype: float64"
      ]
     },
     "execution_count": 272,
     "metadata": {},
     "output_type": "execute_result"
    }
   ],
   "source": [
    "illegal = df2[(df2['done_type'] == 'illegal_moves') & (df2['player_1_reward'] == -1)].count()\n",
    "illegal_percent = illegal / len(df2[df2['done_type'] == 'illegal_moves'])\n",
    "print(illegal)\n",
    "illegal_percent"
   ]
  },
  {
   "cell_type": "markdown",
   "metadata": {},
   "source": [
    "The agent seems to overfit to only trying vertical wins. Change the rewards"
   ]
  },
  {
   "cell_type": "markdown",
   "metadata": {},
   "source": [
    "# Changed agent rewards to restrict vertical wins and illegal moves"
   ]
  },
  {
   "cell_type": "code",
   "execution_count": 273,
   "metadata": {},
   "outputs": [
    {
     "name": "stdout",
     "output_type": "stream",
     "text": [
      "2100 2100 2100 2100\n"
     ]
    }
   ],
   "source": [
    "df = create_df_from_history_ins(11)\n",
    "df2 = df.drop(columns=['final_state'])"
   ]
  },
  {
   "cell_type": "code",
   "execution_count": 274,
   "metadata": {},
   "outputs": [
    {
     "data": {
      "text/plain": [
       "vertical         1975\n",
       "illegal_moves      51\n",
       "horizontal         47\n",
       "diagonal           27\n",
       "Name: done_type, dtype: int64"
      ]
     },
     "execution_count": 274,
     "metadata": {},
     "output_type": "execute_result"
    }
   ],
   "source": [
    "df2['done_type'].value_counts()"
   ]
  },
  {
   "cell_type": "markdown",
   "metadata": {},
   "source": [
    "Agent wins 96% of all the games against a prior policy of itself. Almost all are vertical, despite try to increase horizontal/diagonal wins"
   ]
  },
  {
   "cell_type": "code",
   "execution_count": 275,
   "metadata": {},
   "outputs": [
    {
     "name": "stdout",
     "output_type": "stream",
     "text": [
      "1    1972\n",
      "2      77\n",
      "0      51\n",
      "Name: winner, dtype: int64\n"
     ]
    },
    {
     "data": {
      "text/plain": [
       "1    0.962421\n",
       "2    0.037579\n",
       "0    0.024890\n",
       "Name: winner, dtype: float64"
      ]
     },
     "execution_count": 275,
     "metadata": {},
     "output_type": "execute_result"
    }
   ],
   "source": [
    "print(df2['winner'].value_counts())\n",
    "win_percent = df2['winner'].value_counts() / (len(df2) - len(df2[df['done_type'] == 'illegal_moves']))\n",
    "win_percent"
   ]
  },
  {
   "cell_type": "markdown",
   "metadata": {},
   "source": [
    "### Never choose illegal_moves > 1 time!\n",
    "It seems as if the agent has learned not to choose illegal moves > 1 time"
   ]
  },
  {
   "cell_type": "code",
   "execution_count": 276,
   "metadata": {},
   "outputs": [
    {
     "data": {
      "text/html": [
       "<div>\n",
       "<style scoped>\n",
       "    .dataframe tbody tr th:only-of-type {\n",
       "        vertical-align: middle;\n",
       "    }\n",
       "\n",
       "    .dataframe tbody tr th {\n",
       "        vertical-align: top;\n",
       "    }\n",
       "\n",
       "    .dataframe thead th {\n",
       "        text-align: right;\n",
       "    }\n",
       "</style>\n",
       "<table border=\"1\" class=\"dataframe\">\n",
       "  <thead>\n",
       "    <tr style=\"text-align: right;\">\n",
       "      <th></th>\n",
       "      <th>player_1_reward</th>\n",
       "      <th>done_type</th>\n",
       "      <th>winner</th>\n",
       "    </tr>\n",
       "  </thead>\n",
       "  <tbody>\n",
       "  </tbody>\n",
       "</table>\n",
       "</div>"
      ],
      "text/plain": [
       "Empty DataFrame\n",
       "Columns: [player_1_reward, done_type, winner]\n",
       "Index: []"
      ]
     },
     "execution_count": 276,
     "metadata": {},
     "output_type": "execute_result"
    }
   ],
   "source": [
    "illegal_move_reward = -5\n",
    "df2[(df2['done_type'] == 'illegal_moves') & (df2['player_1_reward'] <= illegal_move_reward)]"
   ]
  },
  {
   "cell_type": "markdown",
   "metadata": {},
   "source": [
    "# Agent trained on a opponent lagging 2 * 300 episodes behind for 3000 episodes"
   ]
  },
  {
   "cell_type": "code",
   "execution_count": 277,
   "metadata": {},
   "outputs": [
    {
     "name": "stdout",
     "output_type": "stream",
     "text": [
      "3200 3200 3200 3200\n"
     ]
    }
   ],
   "source": [
    "df = create_df_from_history_ins(12)\n",
    "df2 = df.drop(columns=['final_state'])"
   ]
  },
  {
   "cell_type": "code",
   "execution_count": 278,
   "metadata": {},
   "outputs": [
    {
     "data": {
      "text/plain": [
       "vertical         1919\n",
       "illegal_moves     740\n",
       "horizontal        377\n",
       "diagonal          164\n",
       "Name: done_type, dtype: int64"
      ]
     },
     "execution_count": 278,
     "metadata": {},
     "output_type": "execute_result"
    }
   ],
   "source": [
    "df2['done_type'].value_counts()"
   ]
  },
  {
   "cell_type": "code",
   "execution_count": 279,
   "metadata": {},
   "outputs": [
    {
     "name": "stdout",
     "output_type": "stream",
     "text": [
      "1    1572\n",
      "2     888\n",
      "0     740\n",
      "Name: winner, dtype: int64\n"
     ]
    },
    {
     "data": {
      "text/plain": [
       "1    0.639024\n",
       "2    0.360976\n",
       "0    0.300813\n",
       "Name: winner, dtype: float64"
      ]
     },
     "execution_count": 279,
     "metadata": {},
     "output_type": "execute_result"
    }
   ],
   "source": [
    "print(df2['winner'].value_counts())\n",
    "win_percent = df2['winner'].value_counts() / (len(df2) - len(df2[df['done_type'] == 'illegal_moves']))\n",
    "win_percent"
   ]
  },
  {
   "cell_type": "code",
   "execution_count": 280,
   "metadata": {},
   "outputs": [
    {
     "data": {
      "text/html": [
       "<div>\n",
       "<style scoped>\n",
       "    .dataframe tbody tr th:only-of-type {\n",
       "        vertical-align: middle;\n",
       "    }\n",
       "\n",
       "    .dataframe tbody tr th {\n",
       "        vertical-align: top;\n",
       "    }\n",
       "\n",
       "    .dataframe thead th {\n",
       "        text-align: right;\n",
       "    }\n",
       "</style>\n",
       "<table border=\"1\" class=\"dataframe\">\n",
       "  <thead>\n",
       "    <tr style=\"text-align: right;\">\n",
       "      <th></th>\n",
       "      <th>player_1_reward</th>\n",
       "      <th>done_type</th>\n",
       "      <th>winner</th>\n",
       "    </tr>\n",
       "  </thead>\n",
       "  <tbody>\n",
       "    <tr>\n",
       "      <th>1</th>\n",
       "      <td>-1.0</td>\n",
       "      <td>diagonal</td>\n",
       "      <td>2</td>\n",
       "    </tr>\n",
       "    <tr>\n",
       "      <th>2</th>\n",
       "      <td>-1.0</td>\n",
       "      <td>horizontal</td>\n",
       "      <td>2</td>\n",
       "    </tr>\n",
       "    <tr>\n",
       "      <th>3</th>\n",
       "      <td>-1.0</td>\n",
       "      <td>vertical</td>\n",
       "      <td>2</td>\n",
       "    </tr>\n",
       "    <tr>\n",
       "      <th>8</th>\n",
       "      <td>-1.0</td>\n",
       "      <td>vertical</td>\n",
       "      <td>2</td>\n",
       "    </tr>\n",
       "    <tr>\n",
       "      <th>11</th>\n",
       "      <td>-1.0</td>\n",
       "      <td>diagonal</td>\n",
       "      <td>2</td>\n",
       "    </tr>\n",
       "    <tr>\n",
       "      <th>...</th>\n",
       "      <td>...</td>\n",
       "      <td>...</td>\n",
       "      <td>...</td>\n",
       "    </tr>\n",
       "    <tr>\n",
       "      <th>3018</th>\n",
       "      <td>-1.0</td>\n",
       "      <td>vertical</td>\n",
       "      <td>2</td>\n",
       "    </tr>\n",
       "    <tr>\n",
       "      <th>3021</th>\n",
       "      <td>-1.0</td>\n",
       "      <td>vertical</td>\n",
       "      <td>2</td>\n",
       "    </tr>\n",
       "    <tr>\n",
       "      <th>3045</th>\n",
       "      <td>-1.0</td>\n",
       "      <td>vertical</td>\n",
       "      <td>2</td>\n",
       "    </tr>\n",
       "    <tr>\n",
       "      <th>3048</th>\n",
       "      <td>-1.0</td>\n",
       "      <td>vertical</td>\n",
       "      <td>2</td>\n",
       "    </tr>\n",
       "    <tr>\n",
       "      <th>3116</th>\n",
       "      <td>-1.0</td>\n",
       "      <td>vertical</td>\n",
       "      <td>2</td>\n",
       "    </tr>\n",
       "  </tbody>\n",
       "</table>\n",
       "<p>888 rows × 3 columns</p>\n",
       "</div>"
      ],
      "text/plain": [
       "      player_1_reward   done_type  winner\n",
       "1                -1.0    diagonal       2\n",
       "2                -1.0  horizontal       2\n",
       "3                -1.0    vertical       2\n",
       "8                -1.0    vertical       2\n",
       "11               -1.0    diagonal       2\n",
       "...               ...         ...     ...\n",
       "3018             -1.0    vertical       2\n",
       "3021             -1.0    vertical       2\n",
       "3045             -1.0    vertical       2\n",
       "3048             -1.0    vertical       2\n",
       "3116             -1.0    vertical       2\n",
       "\n",
       "[888 rows x 3 columns]"
      ]
     },
     "execution_count": 280,
     "metadata": {},
     "output_type": "execute_result"
    }
   ],
   "source": [
    "illegal_move_reward = -5\n",
    "df2[df2['player_1_reward'] <= -1]"
   ]
  },
  {
   "cell_type": "code",
   "execution_count": 281,
   "metadata": {},
   "outputs": [
    {
     "data": {
      "text/plain": [
       "0.214765625"
      ]
     },
     "execution_count": 281,
     "metadata": {},
     "output_type": "execute_result"
    }
   ],
   "source": [
    "# Get the average reward\n",
    "df2['player_1_reward'].mean()"
   ]
  },
  {
   "cell_type": "markdown",
   "metadata": {},
   "source": [
    "# ~15000 episodes with opponent lagging 3 policies behind\n",
    "Because I had to abort the training and had falsy added history-checkpoint, the history's corrupted. Instead I tested the agent against a random player for 600 episodes"
   ]
  },
  {
   "cell_type": "code",
   "execution_count": 282,
   "metadata": {},
   "outputs": [
    {
     "name": "stdout",
     "output_type": "stream",
     "text": [
      "610 610 610 610\n"
     ]
    }
   ],
   "source": [
    "df = create_df_from_history_ins(14)\n",
    "df2 = df.drop(columns=['final_state'])"
   ]
  },
  {
   "cell_type": "code",
   "execution_count": 283,
   "metadata": {},
   "outputs": [
    {
     "data": {
      "text/plain": [
       "vertical         404\n",
       "illegal_moves    148\n",
       "horizontal        36\n",
       "diagonal          22\n",
       "Name: done_type, dtype: int64"
      ]
     },
     "execution_count": 283,
     "metadata": {},
     "output_type": "execute_result"
    }
   ],
   "source": [
    "df2['done_type'].value_counts()"
   ]
  },
  {
   "cell_type": "code",
   "execution_count": 284,
   "metadata": {},
   "outputs": [
    {
     "name": "stdout",
     "output_type": "stream",
     "text": [
      "1    402\n",
      "0    148\n",
      "2     60\n",
      "Name: winner, dtype: int64\n"
     ]
    },
    {
     "data": {
      "text/plain": [
       "1    0.870130\n",
       "0    0.320346\n",
       "2    0.129870\n",
       "Name: winner, dtype: float64"
      ]
     },
     "execution_count": 284,
     "metadata": {},
     "output_type": "execute_result"
    }
   ],
   "source": [
    "print(df2['winner'].value_counts())\n",
    "win_percent = df2['winner'].value_counts() / (len(df2) - len(df2[df['done_type'] == 'illegal_moves']))\n",
    "win_percent"
   ]
  },
  {
   "cell_type": "code",
   "execution_count": 285,
   "metadata": {},
   "outputs": [
    {
     "data": {
      "text/html": [
       "<div>\n",
       "<style scoped>\n",
       "    .dataframe tbody tr th:only-of-type {\n",
       "        vertical-align: middle;\n",
       "    }\n",
       "\n",
       "    .dataframe tbody tr th {\n",
       "        vertical-align: top;\n",
       "    }\n",
       "\n",
       "    .dataframe thead th {\n",
       "        text-align: right;\n",
       "    }\n",
       "</style>\n",
       "<table border=\"1\" class=\"dataframe\">\n",
       "  <thead>\n",
       "    <tr style=\"text-align: right;\">\n",
       "      <th></th>\n",
       "      <th>player_1_reward</th>\n",
       "      <th>done_type</th>\n",
       "      <th>winner</th>\n",
       "    </tr>\n",
       "  </thead>\n",
       "  <tbody>\n",
       "  </tbody>\n",
       "</table>\n",
       "</div>"
      ],
      "text/plain": [
       "Empty DataFrame\n",
       "Columns: [player_1_reward, done_type, winner]\n",
       "Index: []"
      ]
     },
     "execution_count": 285,
     "metadata": {},
     "output_type": "execute_result"
    }
   ],
   "source": [
    "illegal_move_reward = -5\n",
    "df2[df2['player_1_reward'] <= illegal_move_reward]"
   ]
  },
  {
   "cell_type": "markdown",
   "metadata": {},
   "source": [
    "# Trained agent for ~4000 episodes after fixing illegal_action-reward\n",
    "Vertical victory is also reduced to a reward of 0.5, instead of 0.75"
   ]
  },
  {
   "cell_type": "code",
   "execution_count": 286,
   "metadata": {},
   "outputs": [
    {
     "name": "stdout",
     "output_type": "stream",
     "text": [
      "3760 3760 3760 3760\n"
     ]
    }
   ],
   "source": [
    "df = create_df_from_history_ins(15)\n",
    "df2 = df.drop(columns=['final_state'])"
   ]
  },
  {
   "cell_type": "code",
   "execution_count": 287,
   "metadata": {},
   "outputs": [
    {
     "data": {
      "text/plain": [
       "vertical        2266\n",
       "horizontal       774\n",
       "illegal_move     595\n",
       "diagonal         125\n",
       "Name: done_type, dtype: int64"
      ]
     },
     "execution_count": 287,
     "metadata": {},
     "output_type": "execute_result"
    }
   ],
   "source": [
    "df2['done_type'].value_counts()"
   ]
  },
  {
   "cell_type": "markdown",
   "metadata": {},
   "source": [
    "Kept training the agent for ~6200 more episodes"
   ]
  },
  {
   "cell_type": "code",
   "execution_count": 288,
   "metadata": {},
   "outputs": [
    {
     "name": "stdout",
     "output_type": "stream",
     "text": [
      "6200 6200 6200 6200\n"
     ]
    }
   ],
   "source": [
    "df = create_df_from_history_ins(16)\n",
    "df2 = df.drop(columns=['final_state'])"
   ]
  },
  {
   "cell_type": "markdown",
   "metadata": {},
   "source": [
    "There is an increase in horizontal wins, but vertical's still superior"
   ]
  },
  {
   "cell_type": "code",
   "execution_count": 289,
   "metadata": {},
   "outputs": [
    {
     "data": {
      "text/plain": [
       "vertical        4317\n",
       "illegal_move    1103\n",
       "horizontal       722\n",
       "diagonal          58\n",
       "Name: done_type, dtype: int64"
      ]
     },
     "execution_count": 289,
     "metadata": {},
     "output_type": "execute_result"
    }
   ],
   "source": [
    "df2['done_type'].value_counts()"
   ]
  },
  {
   "cell_type": "code",
   "execution_count": 290,
   "metadata": {},
   "outputs": [
    {
     "name": "stdout",
     "output_type": "stream",
     "text": [
      "2    2781\n",
      "1    2316\n",
      "0    1103\n",
      "Name: winner, dtype: int64\n"
     ]
    },
    {
     "data": {
      "text/plain": [
       "2    0.545615\n",
       "1    0.454385\n",
       "0    0.216402\n",
       "Name: winner, dtype: float64"
      ]
     },
     "execution_count": 290,
     "metadata": {},
     "output_type": "execute_result"
    }
   ],
   "source": [
    "print(df2['winner'].value_counts())\n",
    "win_percent = df2['winner'].value_counts() / (len(df2) - len(df2[df['done_type'] == 'illegal_move']))\n",
    "win_percent"
   ]
  },
  {
   "cell_type": "markdown",
   "metadata": {},
   "source": [
    "336 illegal moves, not good"
   ]
  },
  {
   "cell_type": "code",
   "execution_count": 291,
   "metadata": {},
   "outputs": [
    {
     "data": {
      "text/plain": [
       "player_1_reward    336\n",
       "done_type          336\n",
       "winner             336\n",
       "dtype: int64"
      ]
     },
     "execution_count": 291,
     "metadata": {},
     "output_type": "execute_result"
    }
   ],
   "source": [
    "illegal_move_reward = -5\n",
    "df2[df2['player_1_reward'] <= illegal_move_reward].count()"
   ]
  },
  {
   "cell_type": "markdown",
   "metadata": {},
   "source": [
    "Although the results doesn't seem that good, it's a lot better when you play against it than before! Let's try it against a random agent"
   ]
  },
  {
   "cell_type": "code",
   "execution_count": 292,
   "metadata": {},
   "outputs": [
    {
     "name": "stdout",
     "output_type": "stream",
     "text": [
      "610 610 610 610\n"
     ]
    }
   ],
   "source": [
    "df = create_df_from_history_ins(17)\n",
    "df2 = df.drop(columns=['final_state'])"
   ]
  },
  {
   "cell_type": "code",
   "execution_count": 293,
   "metadata": {},
   "outputs": [
    {
     "data": {
      "text/plain": [
       "vertical        352\n",
       "horizontal      142\n",
       "illegal_move     79\n",
       "diagonal         37\n",
       "Name: done_type, dtype: int64"
      ]
     },
     "execution_count": 293,
     "metadata": {},
     "output_type": "execute_result"
    }
   ],
   "source": [
    "df2['done_type'].value_counts()"
   ]
  },
  {
   "cell_type": "code",
   "execution_count": 294,
   "metadata": {},
   "outputs": [
    {
     "name": "stdout",
     "output_type": "stream",
     "text": [
      "1    341\n",
      "2    190\n",
      "0     79\n",
      "Name: winner, dtype: int64\n"
     ]
    },
    {
     "data": {
      "text/plain": [
       "1    0.642185\n",
       "2    0.357815\n",
       "0    0.148776\n",
       "Name: winner, dtype: float64"
      ]
     },
     "execution_count": 294,
     "metadata": {},
     "output_type": "execute_result"
    }
   ],
   "source": [
    "print(df2['winner'].value_counts())\n",
    "win_percent = df2['winner'].value_counts() / (len(df2) - len(df2[df['done_type'] == 'illegal_move']))\n",
    "win_percent"
   ]
  },
  {
   "cell_type": "markdown",
   "metadata": {},
   "source": [
    "The trained agent only wins 56% of the games against the random agent. Does it do better against an earlier version of itself? This might have been with weight_13 and not weight_14 as wanted"
   ]
  },
  {
   "cell_type": "markdown",
   "metadata": {},
   "source": [
    "# Trained overnight with same setup as over"
   ]
  },
  {
   "cell_type": "code",
   "execution_count": 295,
   "metadata": {},
   "outputs": [
    {
     "name": "stdout",
     "output_type": "stream",
     "text": [
      "24500 24500 24500 24500\n"
     ]
    }
   ],
   "source": [
    "df = create_df_from_history_ins(18)\n",
    "df2 = df.drop(columns=['final_state'])"
   ]
  },
  {
   "cell_type": "code",
   "execution_count": 296,
   "metadata": {},
   "outputs": [
    {
     "data": {
      "text/plain": [
       "vertical        20701\n",
       "illegal_move     3113\n",
       "horizontal        634\n",
       "diagonal           52\n",
       "Name: done_type, dtype: int64"
      ]
     },
     "execution_count": 296,
     "metadata": {},
     "output_type": "execute_result"
    }
   ],
   "source": [
    "df2['done_type'].value_counts()"
   ]
  },
  {
   "cell_type": "code",
   "execution_count": 297,
   "metadata": {},
   "outputs": [
    {
     "name": "stdout",
     "output_type": "stream",
     "text": [
      "1    13379\n",
      "2     8008\n",
      "0     3113\n",
      "Name: winner, dtype: int64\n"
     ]
    },
    {
     "data": {
      "text/plain": [
       "1    0.625567\n",
       "2    0.374433\n",
       "0    0.145556\n",
       "Name: winner, dtype: float64"
      ]
     },
     "execution_count": 297,
     "metadata": {},
     "output_type": "execute_result"
    }
   ],
   "source": [
    "print(df2['winner'].value_counts())\n",
    "win_percent = df2['winner'].value_counts() / (len(df2) - len(df2[df['done_type'] == 'illegal_move']))\n",
    "win_percent"
   ]
  },
  {
   "cell_type": "markdown",
   "metadata": {},
   "source": [
    "The agent unfortunately overfits to the vertical strategy, it doesn't seem to have learned that it shouldn't take illegal moves neither.\n",
    "Training a new agent from scratch. Increasing the depth with 1 dense layer. Removing the possibility to choose a wrong action once -> Directly ends if wrong is chosen"
   ]
  },
  {
   "cell_type": "markdown",
   "metadata": {},
   "source": [
    "# Agent with Conv2D-input layer and illegal_move threshold of 0\n",
    "6200 episodes"
   ]
  },
  {
   "cell_type": "code",
   "execution_count": 298,
   "metadata": {},
   "outputs": [],
   "source": [
    "def create_df_from_history_ins(history_ins: int):\n",
    "    FILE_PATH = f\"{history_ins}_history.pkl\"\n",
    "    history_path = os.path.join(HISTORY_DIR, FILE_PATH)\n",
    "    history = None\n",
    "    with open(history_path, \"rb\") as f:\n",
    "        history = pickle.load(f)\n",
    "\n",
    "    print(history.history.keys())\n",
    "    player_1_reward = history.get(\"player_1_reward\")\n",
    "    final_state = history.get(\"final_state\")\n",
    "    done_type = history.get(\"done_type\")\n",
    "    winner = history.get(\"winner\")\n",
    "    game_length = history.get(\"game_length\")\n",
    "\n",
    "    print(len(player_1_reward), len(final_state), len(done_type), len(winner))\n",
    "\n",
    "    df = pd.DataFrame({\n",
    "        \"player_1_reward\": player_1_reward,\n",
    "        \"final_state\": final_state,\n",
    "        \"done_type\": done_type,\n",
    "        \"winner\": winner,\n",
    "        \"game_length\": game_length\n",
    "    })\n",
    "    return df\n"
   ]
  },
  {
   "cell_type": "code",
   "execution_count": 299,
   "metadata": {},
   "outputs": [],
   "source": [
    "def display_stats(df: pd.DataFrame, illegal_move_reward = -10):\n",
    "    winner_stats = df['winner'].value_counts()\n",
    "    done_type_stats = df['done_type'].value_counts()\n",
    "    win_percent = round(df[df['winner'] == 1]['winner'].count() / len(df), 3)\n",
    "    num_illegal_moves = df[df['done_type'] == 'illegal_move']['done_type'].count()\n",
    "    num_illegal_moves_p1 = df[df['player_1_reward'] == illegal_move_reward]['player_1_reward'].count()\n",
    "    percent_of_illegal_moves = round(num_illegal_moves_p1 / num_illegal_moves, 3)\n",
    "    win_percent_wo_illegal = round(df[df['winner'] == 1]['winner'].count() / len(df[df['done_type'] != 'illegal_move']), 3)\n",
    "    print(f\"Winner stats:\\n{winner_stats}\\n\")\n",
    "    print(f\"Done type stats:\\n{done_type_stats}\\n\")\n",
    "    print(f\"Win percent:\\n{win_percent}\\n\")\n",
    "    print(f\"Win percent without illegal moves:\\n{win_percent_wo_illegal}\\n\")\n",
    "    print(f\"Number of illegal moves by Player 1:\\n{num_illegal_moves_p1} = {percent_of_illegal_moves}%\\n\")\n"
   ]
  },
  {
   "cell_type": "code",
   "execution_count": 337,
   "metadata": {},
   "outputs": [
    {
     "data": {
      "image/png": "[encoded data removed]",
      "text/plain": [
       "<Figure size 720x360 with 1 Axes>"
      ]
     },
     "metadata": {
      "needs_background": "light"
     },
     "output_type": "display_data"
    }
   ],
   "source": [
    "def calculate_wins_window(df: pd.DataFrame, window: int = 10):\n",
    "    wins = []\n",
    "    curr_sum = 0\n",
    "    for index,row in df.iterrows():        \n",
    "        if row['winner'] == 1:\n",
    "            curr_sum += 1\n",
    "        \n",
    "        if index % window == 0:\n",
    "            wins.append(curr_sum)\n",
    "            curr_sum = 0\n",
    "\n",
    "    # Smooth the plot\n",
    "    wins = wins[window:]\n",
    "    wins = [sum(wins[i:i+window]) / window for i in range(len(wins) - window)]\n",
    "    wins = [0] + wins\n",
    "    return wins\n",
    "\n",
    "\n",
    "def plot_wins_window(wins = None, df: pd.DataFrame = None, window: int = 10, epoch_length: int = 0):\n",
    "    if wins is None:\n",
    "        wins = calculate_wins_window(df, window)\n",
    "\n",
    "    plt.figure(figsize=(10,5))\n",
    "    plt.title(f\"Wins per {window} games over {len(df)} games\")\n",
    "    plt.plot(wins)\n",
    "    plt.show()\n",
    "\n",
    "plot_wins_window(df=df, window=10)"
   ]
  },
  {
   "cell_type": "code",
   "execution_count": 338,
   "metadata": {},
   "outputs": [
    {
     "name": "stdout",
     "output_type": "stream",
     "text": [
      "dict_keys(['player_1_reward', 'winner', 'done_type', 'final_state', 'game_length', 'loss'])\n",
      "6200 6200 6200 6200\n"
     ]
    }
   ],
   "source": [
    "df = create_df_from_history_ins(19)\n",
    "df2 = df.drop(columns=['final_state'])"
   ]
  },
  {
   "cell_type": "code",
   "execution_count": 339,
   "metadata": {},
   "outputs": [
    {
     "name": "stdout",
     "output_type": "stream",
     "text": [
      "Winner stats:\n",
      "1    2751\n",
      "2    2500\n",
      "0     949\n",
      "Name: winner, dtype: int64\n",
      "\n",
      "Done type stats:\n",
      "vertical        4199\n",
      "illegal_move     949\n",
      "horizontal       861\n",
      "diagonal         191\n",
      "Name: done_type, dtype: int64\n",
      "\n",
      "Win percent:\n",
      "0.444\n",
      "\n",
      "Win percent without illegal moves:\n",
      "0.524\n",
      "\n",
      "Number of illegal moves by Player 1:\n",
      "305 = 0.321%\n",
      "\n"
     ]
    }
   ],
   "source": [
    "display_stats(df, illegal_move_reward = -5)"
   ]
  },
  {
   "cell_type": "code",
   "execution_count": 340,
   "metadata": {},
   "outputs": [
    {
     "data": {
      "image/png": "[encoded data removed]",
      "text/plain": [
       "<Figure size 720x360 with 1 Axes>"
      ]
     },
     "metadata": {
      "needs_background": "light"
     },
     "output_type": "display_data"
    }
   ],
   "source": [
    "plot_wins_window(df=df, window=10)"
   ]
  },
  {
   "cell_type": "markdown",
   "metadata": {},
   "source": [
    "305 illegal moves.\n",
    "Although the agent's history doesn't look very good, it seems to not have overfitted to one strategy, when played against. Let's try it against a random agent"
   ]
  },
  {
   "cell_type": "code",
   "execution_count": 341,
   "metadata": {},
   "outputs": [
    {
     "name": "stdout",
     "output_type": "stream",
     "text": [
      "dict_keys(['player_1_reward', 'winner', 'done_type', 'final_state', 'game_length'])\n",
      "610 610 610 610\n",
      "Winner stats:\n",
      "1    364\n",
      "0    145\n",
      "2    101\n",
      "Name: winner, dtype: int64\n",
      "\n",
      "Done type stats:\n",
      "vertical        358\n",
      "illegal_move    145\n",
      "horizontal       79\n",
      "diagonal         28\n",
      "Name: done_type, dtype: int64\n",
      "\n",
      "Win percent:\n",
      "0.597\n",
      "\n",
      "Win percent without illegal moves:\n",
      "0.783\n",
      "\n",
      "Number of illegal moves by Player 1:\n",
      "86 = 0.593%\n",
      "\n"
     ]
    },
    {
     "data": {
      "image/png": "[encoded data removed]",
      "text/plain": [
       "<Figure size 720x360 with 1 Axes>"
      ]
     },
     "metadata": {
      "needs_background": "light"
     },
     "output_type": "display_data"
    }
   ],
   "source": [
    "df = create_df_from_history_ins(20)\n",
    "display_stats(df, illegal_move_reward = -5)\n",
    "plot_wins_window(df=df, window=10)"
   ]
  },
  {
   "cell_type": "markdown",
   "metadata": {},
   "source": [
    "Wins 78% of the games against the random agent."
   ]
  },
  {
   "cell_type": "markdown",
   "metadata": {},
   "source": [
    "# Conv2D Agent with harder illegal_move penalty\n",
    "An idea would also be to penalize the agent for not placing winning coin, when it has the opportunity"
   ]
  },
  {
   "cell_type": "code",
   "execution_count": 342,
   "metadata": {},
   "outputs": [
    {
     "name": "stdout",
     "output_type": "stream",
     "text": [
      "dict_keys(['player_1_reward', 'winner', 'done_type', 'final_state', 'game_length', 'loss'])\n",
      "13060 13060 13060 13060\n",
      "Winner stats:\n",
      "1    6275\n",
      "2    5082\n",
      "0    1703\n",
      "Name: winner, dtype: int64\n",
      "\n",
      "Done type stats:\n",
      "vertical        9239\n",
      "horizontal      1814\n",
      "illegal_move    1703\n",
      "diagonal         304\n",
      "Name: done_type, dtype: int64\n",
      "\n",
      "Win percent:\n",
      "0.48\n",
      "\n",
      "Win percent without illegal moves:\n",
      "0.553\n",
      "\n",
      "Number of illegal moves by Player 1:\n",
      "803 = 0.472%\n",
      "\n"
     ]
    },
    {
     "data": {
      "image/png": "[encoded data removed]",
      "text/plain": [
       "<Figure size 720x360 with 1 Axes>"
      ]
     },
     "metadata": {
      "needs_background": "light"
     },
     "output_type": "display_data"
    }
   ],
   "source": [
    "df = create_df_from_history_ins(21)\n",
    "display_stats(df, illegal_move_reward = -10)\n",
    "plot_wins_window(df=df, window=25)"
   ]
  },
  {
   "cell_type": "code",
   "execution_count": 343,
   "metadata": {},
   "outputs": [
    {
     "data": {
      "text/plain": [
       "array([[0, 2, 0, 1, 0, 0, 0],\n",
       "       [2, 2, 0, 1, 1, 2, 2],\n",
       "       [1, 1, 0, 1, 1, 2, 2],\n",
       "       [2, 2, 1, 2, 1, 1, 1],\n",
       "       [2, 1, 2, 1, 2, 1, 2],\n",
       "       [1, 1, 1, 2, 2, 1, 2]])"
      ]
     },
     "execution_count": 343,
     "metadata": {},
     "output_type": "execute_result"
    }
   ],
   "source": [
    "df[(df['winner'] == 1) & (df['game_length'] > 16)]['final_state'][4203]"
   ]
  },
  {
   "cell_type": "markdown",
   "metadata": {},
   "source": [
    "The agent plays pretty well. It rarely places a coin outside of the board. It misses a lot of possible wins, try to introduce a reward for that. First test it against a random agent"
   ]
  },
  {
   "cell_type": "code",
   "execution_count": 344,
   "metadata": {},
   "outputs": [
    {
     "name": "stdout",
     "output_type": "stream",
     "text": [
      "dict_keys(['player_1_reward', 'winner', 'done_type', 'final_state', 'game_length'])\n",
      "610 610 610 610\n",
      "Winner stats:\n",
      "1    336\n",
      "2    161\n",
      "0    113\n",
      "Name: winner, dtype: int64\n",
      "\n",
      "Done type stats:\n",
      "vertical        319\n",
      "horizontal      155\n",
      "illegal_move    113\n",
      "diagonal         23\n",
      "Name: done_type, dtype: int64\n",
      "\n",
      "Win percent:\n",
      "0.551\n",
      "\n",
      "Win percent without illegal moves:\n",
      "0.676\n",
      "\n",
      "Number of illegal moves by Player 1:\n",
      "33 = 0.292%\n",
      "\n"
     ]
    },
    {
     "data": {
      "image/png": "[encoded data removed]",
      "text/plain": [
       "<Figure size 720x360 with 1 Axes>"
      ]
     },
     "metadata": {
      "needs_background": "light"
     },
     "output_type": "display_data"
    }
   ],
   "source": [
    "df = create_df_from_history_ins(22)\n",
    "display_stats(df, illegal_move_reward = -10)\n",
    "plot_wins_window(df=df, window=10)"
   ]
  },
  {
   "cell_type": "markdown",
   "metadata": {},
   "source": [
    "# Train Agent \n",
    "Increase min_epsilon to 5%"
   ]
  },
  {
   "cell_type": "code",
   "execution_count": 345,
   "metadata": {},
   "outputs": [
    {
     "name": "stdout",
     "output_type": "stream",
     "text": [
      "dict_keys(['player_1_reward', 'winner', 'done_type', 'final_state', 'game_length', 'loss'])\n",
      "7420 7420 7420 7420\n",
      "Winner stats:\n",
      "1    3167\n",
      "2    3135\n",
      "0    1118\n",
      "Name: winner, dtype: int64\n",
      "\n",
      "Done type stats:\n",
      "vertical        5359\n",
      "illegal_move    1118\n",
      "horizontal       813\n",
      "diagonal         130\n",
      "Name: done_type, dtype: int64\n",
      "\n",
      "Win percent:\n",
      "0.427\n",
      "\n",
      "Win percent without illegal moves:\n",
      "0.503\n",
      "\n",
      "Number of illegal moves by Player 1:\n",
      "442 = 0.395%\n",
      "\n"
     ]
    },
    {
     "data": {
      "image/png": "[encoded data removed]",
      "text/plain": [
       "<Figure size 720x360 with 1 Axes>"
      ]
     },
     "metadata": {
      "needs_background": "light"
     },
     "output_type": "display_data"
    }
   ],
   "source": [
    "df = create_df_from_history_ins(23)\n",
    "display_stats(df, illegal_move_reward = -10)\n",
    "plot_wins_window(df=df, window=25)"
   ]
  },
  {
   "cell_type": "markdown",
   "metadata": {},
   "source": [
    "Tested against a random agent:"
   ]
  },
  {
   "cell_type": "code",
   "execution_count": 346,
   "metadata": {},
   "outputs": [
    {
     "name": "stdout",
     "output_type": "stream",
     "text": [
      "dict_keys(['player_1_reward', 'winner', 'done_type', 'final_state', 'game_length'])\n",
      "610 610 610 610\n",
      "Winner stats:\n",
      "1    399\n",
      "2    119\n",
      "0     92\n",
      "Name: winner, dtype: int64\n",
      "\n",
      "Done type stats:\n",
      "vertical        437\n",
      "illegal_move     92\n",
      "horizontal       68\n",
      "diagonal         13\n",
      "Name: done_type, dtype: int64\n",
      "\n",
      "Win percent:\n",
      "0.654\n",
      "\n",
      "Win percent without illegal moves:\n",
      "0.77\n",
      "\n",
      "Number of illegal moves by Player 1:\n",
      "49 = 0.533%\n",
      "\n"
     ]
    }
   ],
   "source": [
    "df = create_df_from_history_ins(24)\n",
    "display_stats(df, illegal_move_reward = -10)"
   ]
  },
  {
   "cell_type": "markdown",
   "metadata": {},
   "source": [
    "# Change the activation-function for output-layer\n",
    "I previously used softmax, which should primarily be used for multi-class classification problems"
   ]
  },
  {
   "cell_type": "code",
   "execution_count": 347,
   "metadata": {},
   "outputs": [
    {
     "name": "stdout",
     "output_type": "stream",
     "text": [
      "dict_keys(['player_1_reward', 'winner', 'done_type', 'final_state', 'game_length', 'loss'])\n",
      "1720 1720 1720 1720\n",
      "Winner stats:\n",
      "1    1283\n",
      "2     313\n",
      "0     124\n",
      "Name: winner, dtype: int64\n",
      "\n",
      "Done type stats:\n",
      "vertical        1394\n",
      "horizontal       183\n",
      "illegal_move     124\n",
      "diagonal          19\n",
      "Name: done_type, dtype: int64\n",
      "\n",
      "Win percent:\n",
      "0.746\n",
      "\n",
      "Win percent without illegal moves:\n",
      "0.804\n",
      "\n",
      "Number of illegal moves by Player 1:\n",
      "108 = 0.871%\n",
      "\n"
     ]
    },
    {
     "ename": "TypeError",
     "evalue": "object of type 'int' has no len()",
     "output_type": "error",
     "traceback": [
      "\u001b[0;31m---------------------------------------------------------------------------\u001b[0m",
      "\u001b[0;31mTypeError\u001b[0m                                 Traceback (most recent call last)",
      "\u001b[0;32m/var/folders/vn/xw7vy4yj4p59wc8lpy7gnh200000gn/T/ipykernel_22736/1672399603.py\u001b[0m in \u001b[0;36m<module>\u001b[0;34m\u001b[0m\n\u001b[1;32m      1\u001b[0m \u001b[0mdf\u001b[0m \u001b[0;34m=\u001b[0m \u001b[0mcreate_df_from_history_ins\u001b[0m\u001b[0;34m(\u001b[0m\u001b[0;36m25\u001b[0m\u001b[0;34m)\u001b[0m\u001b[0;34m\u001b[0m\u001b[0;34m\u001b[0m\u001b[0m\n\u001b[1;32m      2\u001b[0m \u001b[0mdisplay_stats\u001b[0m\u001b[0;34m(\u001b[0m\u001b[0mdf\u001b[0m\u001b[0;34m,\u001b[0m \u001b[0millegal_move_reward\u001b[0m \u001b[0;34m=\u001b[0m \u001b[0;34m-\u001b[0m\u001b[0;36m10\u001b[0m\u001b[0;34m)\u001b[0m\u001b[0;34m\u001b[0m\u001b[0;34m\u001b[0m\u001b[0m\n\u001b[0;32m----> 3\u001b[0;31m \u001b[0mplot_wins_window\u001b[0m\u001b[0;34m(\u001b[0m\u001b[0mdf\u001b[0m\u001b[0;34m,\u001b[0m \u001b[0;36m10\u001b[0m\u001b[0;34m)\u001b[0m\u001b[0;34m\u001b[0m\u001b[0;34m\u001b[0m\u001b[0m\n\u001b[0m",
      "\u001b[0;32m/var/folders/vn/xw7vy4yj4p59wc8lpy7gnh200000gn/T/ipykernel_22736/3025745843.py\u001b[0m in \u001b[0;36mplot_wins_window\u001b[0;34m(wins, df, window, epoch_length)\u001b[0m\n\u001b[1;32m     22\u001b[0m \u001b[0;34m\u001b[0m\u001b[0m\n\u001b[1;32m     23\u001b[0m     \u001b[0mplt\u001b[0m\u001b[0;34m.\u001b[0m\u001b[0mfigure\u001b[0m\u001b[0;34m(\u001b[0m\u001b[0mfigsize\u001b[0m\u001b[0;34m=\u001b[0m\u001b[0;34m(\u001b[0m\u001b[0;36m10\u001b[0m\u001b[0;34m,\u001b[0m\u001b[0;36m5\u001b[0m\u001b[0;34m)\u001b[0m\u001b[0;34m)\u001b[0m\u001b[0;34m\u001b[0m\u001b[0;34m\u001b[0m\u001b[0m\n\u001b[0;32m---> 24\u001b[0;31m     \u001b[0mplt\u001b[0m\u001b[0;34m.\u001b[0m\u001b[0mtitle\u001b[0m\u001b[0;34m(\u001b[0m\u001b[0;34mf\"Wins per {window} games over {len(df)} games\"\u001b[0m\u001b[0;34m)\u001b[0m\u001b[0;34m\u001b[0m\u001b[0;34m\u001b[0m\u001b[0m\n\u001b[0m\u001b[1;32m     25\u001b[0m     \u001b[0mplt\u001b[0m\u001b[0;34m.\u001b[0m\u001b[0mplot\u001b[0m\u001b[0;34m(\u001b[0m\u001b[0mwins\u001b[0m\u001b[0;34m)\u001b[0m\u001b[0;34m\u001b[0m\u001b[0;34m\u001b[0m\u001b[0m\n\u001b[1;32m     26\u001b[0m     \u001b[0mplt\u001b[0m\u001b[0;34m.\u001b[0m\u001b[0mshow\u001b[0m\u001b[0;34m(\u001b[0m\u001b[0;34m)\u001b[0m\u001b[0;34m\u001b[0m\u001b[0;34m\u001b[0m\u001b[0m\n",
      "\u001b[0;31mTypeError\u001b[0m: object of type 'int' has no len()"
     ]
    },
    {
     "data": {
      "text/plain": [
       "<Figure size 720x360 with 0 Axes>"
      ]
     },
     "metadata": {},
     "output_type": "display_data"
    }
   ],
   "source": [
    "df = create_df_from_history_ins(25)\n",
    "display_stats(df, illegal_move_reward = -10)\n",
    "plot_wins_window(df, 10)"
   ]
  },
  {
   "cell_type": "code",
   "execution_count": 348,
   "metadata": {},
   "outputs": [
    {
     "name": "stdout",
     "output_type": "stream",
     "text": [
      "dict_keys(['player_1_reward', 'winner', 'done_type', 'final_state', 'game_length'])\n",
      "810 810 810 810\n",
      "Winner stats:\n",
      "1    595\n",
      "0    209\n",
      "2      6\n",
      "Name: winner, dtype: int64\n",
      "\n",
      "Done type stats:\n",
      "vertical        597\n",
      "illegal_move    209\n",
      "horizontal        4\n",
      "Name: done_type, dtype: int64\n",
      "\n",
      "Win percent:\n",
      "0.735\n",
      "\n",
      "Win percent without illegal moves:\n",
      "0.99\n",
      "\n",
      "Number of illegal moves by Player 1:\n",
      "185 = 0.885%\n",
      "\n"
     ]
    },
    {
     "data": {
      "image/png": "[encoded data removed]",
      "text/plain": [
       "<Figure size 720x360 with 1 Axes>"
      ]
     },
     "metadata": {
      "needs_background": "light"
     },
     "output_type": "display_data"
    }
   ],
   "source": [
    "df = create_df_from_history_ins(26)\n",
    "display_stats(df, illegal_move_reward = -10)\n",
    "plot_wins_window(df=df, window=10)"
   ]
  },
  {
   "cell_type": "code",
   "execution_count": 378,
   "metadata": {},
   "outputs": [
    {
     "name": "stdout",
     "output_type": "stream",
     "text": [
      "dict_keys(['player_1_reward', 'winner', 'done_type', 'final_state', 'game_length', 'opponent_policy', 'loss'])\n",
      "9010 9010 9010 9010\n",
      "Winner stats:\n",
      "1    4198\n",
      "2    3718\n",
      "0    1094\n",
      "Name: winner, dtype: int64\n",
      "\n",
      "Done type stats:\n",
      "vertical        7554\n",
      "illegal_move    1094\n",
      "horizontal       308\n",
      "diagonal          54\n",
      "Name: done_type, dtype: int64\n",
      "\n",
      "Win percent:\n",
      "0.466\n",
      "\n",
      "Win percent without illegal moves:\n",
      "0.53\n",
      "\n",
      "Number of illegal moves by Player 1:\n",
      "421 = 0.385%\n",
      "\n"
     ]
    }
   ],
   "source": [
    "df = create_df_from_history_ins(27)\n",
    "display_stats(df, illegal_move_reward = -10)"
   ]
  },
  {
   "cell_type": "code",
   "execution_count": 397,
   "metadata": {},
   "outputs": [],
   "source": [
    "window_size = 10\n",
    "\n",
    "def plot_wins_with_epochs(wins, n_episodes, opponent_lag, window_size):\n",
    "    epochs = len(df) // n_episodes\n",
    "    n_policy_changes = (epochs // opponent_lag)\n",
    "    epoch_list = np.array([i * n_episodes for i in range(1, epochs)])\n",
    "    policy_changes = np.array([n_episodes * opponent_lag * i for i in range(1, n_policy_changes + 1)])\n",
    "    epoch_list_windowed = epoch_list / window_size\n",
    "    policy_changes_windowed = policy_changes / window_size\n",
    "\n",
    "    plt.figure(figsize=(10,5))\n",
    "    plt.vlines(x=epoch_list_windowed, ymin=[0], ymax=[window_size], colors='teal', ls='--', lw=1, label='vline_multiple - partial height')\n",
    "    plt.vlines(x=policy_changes_windowed, ymin=[0], ymax=[window_size], colors='orange', ls='--', lw=2, label='vline_multiple - partial height')\n",
    "    plt.plot(wins)\n",
    "    plt.show()\n",
    "    # return epoch_list_windowed, policy_changes_windowed"
   ]
  },
  {
   "cell_type": "code",
   "execution_count": 398,
   "metadata": {},
   "outputs": [
    {
     "data": {
      "image/png": "[encoded data removed]",
      "text/plain": [
       "<Figure size 720x360 with 1 Axes>"
      ]
     },
     "metadata": {
      "needs_background": "light"
     },
     "output_type": "display_data"
    }
   ],
   "source": [
    "\n",
    "wins = calculate_wins_window(df, window=window_size)\n",
    "plot_wins_with_epochs(wins, 810, 2, window_size)\n"
   ]
  },
  {
   "cell_type": "markdown",
   "metadata": {},
   "source": [
    "# New run\n",
    "The agent still severly overfits to othe strategy of vertical wins. \n",
    "- Increase the reward of horizontal/diagonal wins\n",
    "- Increase the episodes from 810 to 1610 in order to see if the wins keep climbing"
   ]
  },
  {
   "cell_type": "code",
   "execution_count": 417,
   "metadata": {},
   "outputs": [
    {
     "name": "stdout",
     "output_type": "stream",
     "text": [
      "dict_keys(['player_1_reward', 'winner', 'done_type', 'final_state', 'game_length', 'opponent_policy', 'loss'])\n",
      "10150 10150 10150 10150\n",
      "Winner stats:\n",
      "1    5993\n",
      "0    2181\n",
      "2    1976\n",
      "Name: winner, dtype: int64\n",
      "\n",
      "Done type stats:\n",
      "vertical        7839\n",
      "illegal_move    2181\n",
      "horizontal       127\n",
      "diagonal           3\n",
      "Name: done_type, dtype: int64\n",
      "\n",
      "Win percent:\n",
      "0.59\n",
      "\n",
      "Win percent without illegal moves:\n",
      "0.752\n",
      "\n",
      "Number of illegal moves by Player 1:\n",
      "161 = 0.074%\n",
      "\n"
     ]
    },
    {
     "data": {
      "image/png": "[encoded data removed]",
      "text/plain": [
       "<Figure size 720x360 with 1 Axes>"
      ]
     },
     "metadata": {
      "needs_background": "light"
     },
     "output_type": "display_data"
    }
   ],
   "source": [
    "window_size = 15\n",
    "df = create_df_from_history_ins(28)\n",
    "display_stats(df, illegal_move_reward = -10)\n",
    "plot_wins_window(df=df, window=window_size)\n",
    "# plot_wins_with_epochs(wins, 2010, 1, window_size)"
   ]
  },
  {
   "cell_type": "markdown",
   "metadata": {},
   "source": [
    "Tested against a random agent"
   ]
  },
  {
   "cell_type": "code",
   "execution_count": 424,
   "metadata": {},
   "outputs": [
    {
     "name": "stdout",
     "output_type": "stream",
     "text": [
      "dict_keys(['player_1_reward', 'winner', 'done_type', 'final_state', 'game_length', 'opponent_policy'])\n",
      "810 810 810 810\n",
      "Winner stats:\n",
      "1    678\n",
      "0    100\n",
      "2     32\n",
      "Name: winner, dtype: int64\n",
      "\n",
      "Done type stats:\n",
      "vertical        685\n",
      "illegal_move    100\n",
      "horizontal       24\n",
      "diagonal          1\n",
      "Name: done_type, dtype: int64\n",
      "\n",
      "Win percent:\n",
      "0.837\n",
      "\n",
      "Win percent without illegal moves:\n",
      "0.955\n",
      "\n",
      "Number of illegal moves by Player 1:\n",
      "63 = 0.63%\n",
      "\n"
     ]
    },
    {
     "data": {
      "image/png": "[encoded data removed]",
      "text/plain": [
       "<Figure size 720x360 with 1 Axes>"
      ]
     },
     "metadata": {
      "needs_background": "light"
     },
     "output_type": "display_data"
    }
   ],
   "source": [
    "window_size = 10\n",
    "df = create_df_from_history_ins(29)\n",
    "display_stats(df, illegal_move_reward = -10)\n",
    "plot_wins_window(df=df, window=window_size)"
   ]
  },
  {
   "cell_type": "markdown",
   "metadata": {},
   "source": [
    "# Trained overnight\n",
    "- Opponent also uses an annealing epsilon for choosing actions\n",
    "- The opponent's policy is randomly chosen between the 5 actions in the PolicyNetwork\n",
    "- Increase the exploration by slowing the decrease of epsilon\n"
   ]
  },
  {
   "cell_type": "markdown",
   "metadata": {},
   "source": []
  }
 ],
 "metadata": {
  "interpreter": {
   "hash": "b70f6b30f9f28b8b068f01a30d81749322198d4d744969b4373135fb44d4e5bb"
  },
  "kernelspec": {
   "display_name": "Python 3.7.9 ('venv': venv)",
   "language": "python",
   "name": "python3"
  },
  "language_info": {
   "codemirror_mode": {
    "name": "ipython",
    "version": 3
   },
   "file_extension": ".py",
   "mimetype": "text/x-python",
   "name": "python",
   "nbconvert_exporter": "python",
   "pygments_lexer": "ipython3",
   "version": "3.7.9"
  },
  "orig_nbformat": 4
 },
 "nbformat": 4,
 "nbformat_minor": 2
}
