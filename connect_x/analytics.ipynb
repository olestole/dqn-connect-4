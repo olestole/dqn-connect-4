{
 "cells": [
  {
   "cell_type": "code",
   "execution_count": 2,
   "metadata": {},
   "outputs": [],
   "source": [
    "from matplotlib import pyplot as plt\n",
    "import pickle\n",
    "import os\n",
    "from history import History\n",
    "import pandas as pd"
   ]
  },
  {
   "cell_type": "code",
   "execution_count": 3,
   "metadata": {},
   "outputs": [],
   "source": [
    "HISTORY_DIR = \"../history\""
   ]
  },
  {
   "cell_type": "code",
   "execution_count": 4,
   "metadata": {},
   "outputs": [],
   "source": [
    "def create_df_from_history_ins(history_ins: int):\n",
    "    FILE_PATH = f\"{history_ins}_history.pkl\"\n",
    "    history_path = os.path.join(HISTORY_DIR, FILE_PATH)\n",
    "    f = open(history_path, \"rb\")\n",
    "    history = pickle.load(f)\n",
    "    player_1_reward = history.get(\"player_1_reward\")\n",
    "    final_state = history.get(\"final_state\")\n",
    "    done_type = history.get(\"done_type\")\n",
    "    winner = history.get(\"winner\")\n",
    "\n",
    "    print(len(player_1_reward), len(final_state), len(done_type), len(winner))\n",
    "\n",
    "    df = pd.DataFrame({\n",
    "        \"player_1_reward\": player_1_reward,\n",
    "        \"final_state\": final_state,\n",
    "        \"done_type\": done_type,\n",
    "        \"winner\": winner\n",
    "    })\n",
    "    return df\n"
   ]
  },
  {
   "cell_type": "markdown",
   "metadata": {},
   "source": [
    "# Training agent against random agent for 300 episodes"
   ]
  },
  {
   "cell_type": "code",
   "execution_count": 5,
   "metadata": {},
   "outputs": [
    {
     "name": "stdout",
     "output_type": "stream",
     "text": [
      "450 450 450 450\n"
     ]
    },
    {
     "name": "stderr",
     "output_type": "stream",
     "text": [
      "2022-05-31 09:34:06.538669: I tensorflow/core/platform/cpu_feature_guard.cc:193] This TensorFlow binary is optimized with oneAPI Deep Neural Network Library (oneDNN) to use the following CPU instructions in performance-critical operations:  AVX2 FMA\n",
      "To enable them in other operations, rebuild TensorFlow with the appropriate compiler flags.\n"
     ]
    }
   ],
   "source": [
    "df = create_df_from_history_ins(6)\n",
    "df2 = df.drop(columns=['final_state'])"
   ]
  },
  {
   "cell_type": "markdown",
   "metadata": {},
   "source": [
    "Most of all the wins are **vertical wins**\n",
    "\n",
    "Still a lot of **illegal_moves** -> Hasn't learned to not play correctly, migth be player_2"
   ]
  },
  {
   "cell_type": "code",
   "execution_count": 126,
   "metadata": {},
   "outputs": [
    {
     "data": {
      "text/plain": [
       "vertical         298\n",
       "illegal_moves     89\n",
       "horizontal        51\n",
       "diagonal          12\n",
       "Name: done_type, dtype: int64"
      ]
     },
     "execution_count": 126,
     "metadata": {},
     "output_type": "execute_result"
    }
   ],
   "source": [
    "df2['done_type'].value_counts()"
   ]
  },
  {
   "cell_type": "markdown",
   "metadata": {},
   "source": [
    "Agent 1, who also starts, wins 54.3% of the games not being ended due to illegal_moves"
   ]
  },
  {
   "cell_type": "code",
   "execution_count": 127,
   "metadata": {},
   "outputs": [
    {
     "name": "stdout",
     "output_type": "stream",
     "text": [
      "1    196\n",
      "2    165\n",
      "0     89\n",
      "Name: winner, dtype: int64\n"
     ]
    },
    {
     "data": {
      "text/plain": [
       "1    0.542936\n",
       "2    0.457064\n",
       "0    0.246537\n",
       "Name: winner, dtype: float64"
      ]
     },
     "execution_count": 127,
     "metadata": {},
     "output_type": "execute_result"
    }
   ],
   "source": [
    "print(df2['winner'].value_counts())\n",
    "win_percent = df2['winner'].value_counts() / (len(df2) - len(df2[df['done_type'] == 'illegal_moves']))\n",
    "win_percent"
   ]
  },
  {
   "cell_type": "markdown",
   "metadata": {},
   "source": [
    "40 of the 89 *illegal_moves*, 45%, are done by player 1."
   ]
  },
  {
   "cell_type": "code",
   "execution_count": 130,
   "metadata": {},
   "outputs": [
    {
     "name": "stdout",
     "output_type": "stream",
     "text": [
      "player_1_reward    40\n",
      "done_type          40\n",
      "winner             40\n",
      "dtype: int64\n"
     ]
    },
    {
     "data": {
      "text/plain": [
       "player_1_reward    0.449438\n",
       "done_type          0.449438\n",
       "winner             0.449438\n",
       "dtype: float64"
      ]
     },
     "execution_count": 130,
     "metadata": {},
     "output_type": "execute_result"
    }
   ],
   "source": [
    "illegal = df2[(df2['done_type'] == 'illegal_moves') & (df2['player_1_reward'] == -1)].count()\n",
    "illegal_percent = illegal / len(df2[df2['done_type'] == 'illegal_moves'])\n",
    "print(illegal)\n",
    "illegal_percent\n"
   ]
  },
  {
   "cell_type": "markdown",
   "metadata": {},
   "source": [
    "# Run 1000 episodes w/training_agent starting with weights main_6_200 and opponent main_6_100"
   ]
  },
  {
   "cell_type": "code",
   "execution_count": 131,
   "metadata": {},
   "outputs": [
    {
     "name": "stdout",
     "output_type": "stream",
     "text": [
      "1100 1100 1100 1100\n"
     ]
    }
   ],
   "source": [
    "history_instance = 7\n",
    "df = create_df_from_history_ins(history_instance)\n",
    "df2 = df.drop(columns=['final_state'])"
   ]
  },
  {
   "cell_type": "code",
   "execution_count": 132,
   "metadata": {},
   "outputs": [
    {
     "data": {
      "text/plain": [
       "vertical         735\n",
       "horizontal       168\n",
       "illegal_moves    155\n",
       "diagonal          42\n",
       "Name: done_type, dtype: int64"
      ]
     },
     "execution_count": 132,
     "metadata": {},
     "output_type": "execute_result"
    }
   ],
   "source": [
    "df2['done_type'].value_counts()"
   ]
  },
  {
   "cell_type": "code",
   "execution_count": 133,
   "metadata": {},
   "outputs": [
    {
     "name": "stdout",
     "output_type": "stream",
     "text": [
      "1    554\n",
      "2    391\n",
      "0    155\n",
      "Name: winner, dtype: int64\n"
     ]
    },
    {
     "data": {
      "text/plain": [
       "1    0.586243\n",
       "2    0.413757\n",
       "0    0.164021\n",
       "Name: winner, dtype: float64"
      ]
     },
     "execution_count": 133,
     "metadata": {},
     "output_type": "execute_result"
    }
   ],
   "source": [
    "print(df2['winner'].value_counts())\n",
    "win_percent = df2['winner'].value_counts() / (len(df2) - len(df2[df['done_type'] == 'illegal_moves']))\n",
    "win_percent"
   ]
  },
  {
   "cell_type": "markdown",
   "metadata": {},
   "source": [
    "Player 1 only made 40% of the illegal_moves"
   ]
  },
  {
   "cell_type": "code",
   "execution_count": 135,
   "metadata": {},
   "outputs": [
    {
     "name": "stdout",
     "output_type": "stream",
     "text": [
      "player_1_reward    63\n",
      "done_type          63\n",
      "winner             63\n",
      "dtype: int64\n"
     ]
    },
    {
     "data": {
      "text/plain": [
       "player_1_reward    0.406452\n",
       "done_type          0.406452\n",
       "winner             0.406452\n",
       "dtype: float64"
      ]
     },
     "execution_count": 135,
     "metadata": {},
     "output_type": "execute_result"
    }
   ],
   "source": [
    "illegal = df2[(df2['done_type'] == 'illegal_moves') & (df2['player_1_reward'] == -1)].count()\n",
    "illegal_percent = illegal / len(df2[df2['done_type'] == 'illegal_moves'])\n",
    "print(illegal)\n",
    "illegal_percent\n"
   ]
  },
  {
   "cell_type": "code",
   "execution_count": 139,
   "metadata": {},
   "outputs": [
    {
     "data": {
      "text/plain": [
       "player_1_reward\n",
       " 1                 554\n",
       "-1                 454\n",
       " 0                  92\n",
       "dtype: int64"
      ]
     },
     "execution_count": 139,
     "metadata": {},
     "output_type": "execute_result"
    }
   ],
   "source": [
    "df2[['player_1_reward']].value_counts()"
   ]
  },
  {
   "cell_type": "markdown",
   "metadata": {},
   "source": [
    "# 3000 episodes, opponent starts with policy 900 episodes prior"
   ]
  },
  {
   "cell_type": "code",
   "execution_count": 140,
   "metadata": {},
   "outputs": [
    {
     "name": "stdout",
     "output_type": "stream",
     "text": [
      "3110 3110 3110 3110\n"
     ]
    }
   ],
   "source": [
    "history_instance = 8\n",
    "df = create_df_from_history_ins(history_instance)\n",
    "df2 = df.drop(columns=['final_state'])"
   ]
  },
  {
   "cell_type": "markdown",
   "metadata": {},
   "source": []
  },
  {
   "cell_type": "code",
   "execution_count": 141,
   "metadata": {},
   "outputs": [
    {
     "data": {
      "text/plain": [
       "vertical         2375\n",
       "illegal_moves     360\n",
       "horizontal        335\n",
       "diagonal           40\n",
       "Name: done_type, dtype: int64"
      ]
     },
     "execution_count": 141,
     "metadata": {},
     "output_type": "execute_result"
    }
   ],
   "source": [
    "df2['done_type'].value_counts()"
   ]
  },
  {
   "cell_type": "code",
   "execution_count": 142,
   "metadata": {},
   "outputs": [
    {
     "name": "stdout",
     "output_type": "stream",
     "text": [
      "1    2194\n",
      "2     556\n",
      "0     360\n",
      "Name: winner, dtype: int64\n"
     ]
    },
    {
     "data": {
      "text/plain": [
       "1    0.797818\n",
       "2    0.202182\n",
       "0    0.130909\n",
       "Name: winner, dtype: float64"
      ]
     },
     "execution_count": 142,
     "metadata": {},
     "output_type": "execute_result"
    }
   ],
   "source": [
    "print(df2['winner'].value_counts())\n",
    "win_percent = df2['winner'].value_counts() / (len(df2) - len(df2[df['done_type'] == 'illegal_moves']))\n",
    "win_percent"
   ]
  },
  {
   "cell_type": "code",
   "execution_count": 143,
   "metadata": {},
   "outputs": [
    {
     "name": "stdout",
     "output_type": "stream",
     "text": [
      "player_1_reward    175\n",
      "done_type          175\n",
      "winner             175\n",
      "dtype: int64\n"
     ]
    },
    {
     "data": {
      "text/plain": [
       "player_1_reward    0.486111\n",
       "done_type          0.486111\n",
       "winner             0.486111\n",
       "dtype: float64"
      ]
     },
     "execution_count": 143,
     "metadata": {},
     "output_type": "execute_result"
    }
   ],
   "source": [
    "illegal = df2[(df2['done_type'] == 'illegal_moves') & (df2['player_1_reward'] == -1)].count()\n",
    "illegal_percent = illegal / len(df2[df2['done_type'] == 'illegal_moves'])\n",
    "print(illegal)\n",
    "illegal_percent\n"
   ]
  },
  {
   "cell_type": "markdown",
   "metadata": {},
   "source": [
    "# Test 500 episodes against random agent"
   ]
  },
  {
   "cell_type": "code",
   "execution_count": 147,
   "metadata": {},
   "outputs": [
    {
     "name": "stdout",
     "output_type": "stream",
     "text": [
      "500 500 500 500\n"
     ]
    }
   ],
   "source": [
    "history_instance = 9\n",
    "df = create_df_from_history_ins(history_instance)\n",
    "df2 = df.drop(columns=['final_state'])"
   ]
  },
  {
   "cell_type": "markdown",
   "metadata": {},
   "source": []
  },
  {
   "cell_type": "code",
   "execution_count": 148,
   "metadata": {},
   "outputs": [
    {
     "data": {
      "text/plain": [
       "vertical         432\n",
       "illegal_moves     43\n",
       "horizontal        23\n",
       "diagonal           2\n",
       "Name: done_type, dtype: int64"
      ]
     },
     "execution_count": 148,
     "metadata": {},
     "output_type": "execute_result"
    }
   ],
   "source": [
    "df2['done_type'].value_counts()"
   ]
  },
  {
   "cell_type": "markdown",
   "metadata": {},
   "source": [
    "The trained agent wins 82.5% of the times against the random agent"
   ]
  },
  {
   "cell_type": "code",
   "execution_count": 149,
   "metadata": {},
   "outputs": [
    {
     "name": "stdout",
     "output_type": "stream",
     "text": [
      "1    377\n",
      "2     80\n",
      "0     43\n",
      "Name: winner, dtype: int64\n"
     ]
    },
    {
     "data": {
      "text/plain": [
       "1    0.824945\n",
       "2    0.175055\n",
       "0    0.094092\n",
       "Name: winner, dtype: float64"
      ]
     },
     "execution_count": 149,
     "metadata": {},
     "output_type": "execute_result"
    }
   ],
   "source": [
    "print(df2['winner'].value_counts())\n",
    "win_percent = df2['winner'].value_counts() / (len(df2) - len(df2[df['done_type'] == 'illegal_moves']))\n",
    "win_percent"
   ]
  },
  {
   "cell_type": "markdown",
   "metadata": {},
   "source": [
    "# Training agent for 1000 episodes"
   ]
  },
  {
   "cell_type": "code",
   "execution_count": 155,
   "metadata": {},
   "outputs": [
    {
     "name": "stdout",
     "output_type": "stream",
     "text": [
      "1100 1100 1100 1100\n"
     ]
    }
   ],
   "source": [
    "df = create_df_from_history_ins(10)\n",
    "df2 = df.drop(columns=['final_state'])"
   ]
  },
  {
   "cell_type": "code",
   "execution_count": 156,
   "metadata": {},
   "outputs": [
    {
     "data": {
      "text/plain": [
       "vertical         891\n",
       "illegal_moves     92\n",
       "horizontal        70\n",
       "diagonal          47\n",
       "Name: done_type, dtype: int64"
      ]
     },
     "execution_count": 156,
     "metadata": {},
     "output_type": "execute_result"
    }
   ],
   "source": [
    "df2['done_type'].value_counts()"
   ]
  },
  {
   "cell_type": "code",
   "execution_count": 157,
   "metadata": {},
   "outputs": [
    {
     "name": "stdout",
     "output_type": "stream",
     "text": [
      "1    820\n",
      "2    188\n",
      "0     92\n",
      "Name: winner, dtype: int64\n"
     ]
    },
    {
     "data": {
      "text/plain": [
       "1    0.813492\n",
       "2    0.186508\n",
       "0    0.091270\n",
       "Name: winner, dtype: float64"
      ]
     },
     "execution_count": 157,
     "metadata": {},
     "output_type": "execute_result"
    }
   ],
   "source": [
    "print(df2['winner'].value_counts())\n",
    "win_percent = df2['winner'].value_counts() / (len(df2) - len(df2[df['done_type'] == 'illegal_moves']))\n",
    "win_percent"
   ]
  },
  {
   "cell_type": "code",
   "execution_count": 159,
   "metadata": {},
   "outputs": [
    {
     "name": "stdout",
     "output_type": "stream",
     "text": [
      "player_1_reward    42\n",
      "done_type          42\n",
      "winner             42\n",
      "dtype: int64\n"
     ]
    },
    {
     "data": {
      "text/plain": [
       "player_1_reward    0.456522\n",
       "done_type          0.456522\n",
       "winner             0.456522\n",
       "dtype: float64"
      ]
     },
     "execution_count": 159,
     "metadata": {},
     "output_type": "execute_result"
    }
   ],
   "source": [
    "illegal = df2[(df2['done_type'] == 'illegal_moves') & (df2['player_1_reward'] == -1)].count()\n",
    "illegal_percent = illegal / len(df2[df2['done_type'] == 'illegal_moves'])\n",
    "print(illegal)\n",
    "illegal_percent"
   ]
  },
  {
   "cell_type": "markdown",
   "metadata": {},
   "source": [
    "The agent seems to overfit to only trying vertical wins. Change the rewards"
   ]
  },
  {
   "cell_type": "markdown",
   "metadata": {},
   "source": [
    "# Changed agent rewards to restrict vertical wins and illegal moves"
   ]
  },
  {
   "cell_type": "code",
   "execution_count": 160,
   "metadata": {},
   "outputs": [
    {
     "name": "stdout",
     "output_type": "stream",
     "text": [
      "2100 2100 2100 2100\n"
     ]
    }
   ],
   "source": [
    "df = create_df_from_history_ins(11)\n",
    "df2 = df.drop(columns=['final_state'])"
   ]
  },
  {
   "cell_type": "code",
   "execution_count": 161,
   "metadata": {},
   "outputs": [
    {
     "data": {
      "text/plain": [
       "vertical         1975\n",
       "illegal_moves      51\n",
       "horizontal         47\n",
       "diagonal           27\n",
       "Name: done_type, dtype: int64"
      ]
     },
     "execution_count": 161,
     "metadata": {},
     "output_type": "execute_result"
    }
   ],
   "source": [
    "df2['done_type'].value_counts()"
   ]
  },
  {
   "cell_type": "markdown",
   "metadata": {},
   "source": [
    "Agent wins 96% of all the games against a prior policy of itself. Almost all are vertical, despite try to increase horizontal/diagonal wins"
   ]
  },
  {
   "cell_type": "code",
   "execution_count": 162,
   "metadata": {},
   "outputs": [
    {
     "name": "stdout",
     "output_type": "stream",
     "text": [
      "1    1972\n",
      "2      77\n",
      "0      51\n",
      "Name: winner, dtype: int64\n"
     ]
    },
    {
     "data": {
      "text/plain": [
       "1    0.962421\n",
       "2    0.037579\n",
       "0    0.024890\n",
       "Name: winner, dtype: float64"
      ]
     },
     "execution_count": 162,
     "metadata": {},
     "output_type": "execute_result"
    }
   ],
   "source": [
    "print(df2['winner'].value_counts())\n",
    "win_percent = df2['winner'].value_counts() / (len(df2) - len(df2[df['done_type'] == 'illegal_moves']))\n",
    "win_percent"
   ]
  },
  {
   "cell_type": "markdown",
   "metadata": {},
   "source": [
    "### Never choose illegal_moves > 1 time!\n",
    "It seems as if the agent has learned not to choose illegal moves > 1 time"
   ]
  },
  {
   "cell_type": "code",
   "execution_count": 181,
   "metadata": {},
   "outputs": [
    {
     "data": {
      "text/html": [
       "<div>\n",
       "<style scoped>\n",
       "    .dataframe tbody tr th:only-of-type {\n",
       "        vertical-align: middle;\n",
       "    }\n",
       "\n",
       "    .dataframe tbody tr th {\n",
       "        vertical-align: top;\n",
       "    }\n",
       "\n",
       "    .dataframe thead th {\n",
       "        text-align: right;\n",
       "    }\n",
       "</style>\n",
       "<table border=\"1\" class=\"dataframe\">\n",
       "  <thead>\n",
       "    <tr style=\"text-align: right;\">\n",
       "      <th></th>\n",
       "      <th>player_1_reward</th>\n",
       "      <th>done_type</th>\n",
       "      <th>winner</th>\n",
       "    </tr>\n",
       "  </thead>\n",
       "  <tbody>\n",
       "  </tbody>\n",
       "</table>\n",
       "</div>"
      ],
      "text/plain": [
       "Empty DataFrame\n",
       "Columns: [player_1_reward, done_type, winner]\n",
       "Index: []"
      ]
     },
     "execution_count": 181,
     "metadata": {},
     "output_type": "execute_result"
    }
   ],
   "source": [
    "illegal_move_reward = -5\n",
    "df2[(df2['done_type'] == 'illegal_moves') & (df2['player_1_reward'] <= illegal_move_reward)]"
   ]
  },
  {
   "cell_type": "markdown",
   "metadata": {},
   "source": [
    "# Agent trained on a opponent lagging 2 * 300 episodes behind for 3000 episodes"
   ]
  },
  {
   "cell_type": "code",
   "execution_count": 7,
   "metadata": {},
   "outputs": [
    {
     "name": "stdout",
     "output_type": "stream",
     "text": [
      "3200 3200 3200 3200\n"
     ]
    }
   ],
   "source": [
    "df = create_df_from_history_ins(12)\n",
    "df2 = df.drop(columns=['final_state'])"
   ]
  },
  {
   "cell_type": "code",
   "execution_count": 8,
   "metadata": {},
   "outputs": [
    {
     "data": {
      "text/plain": [
       "vertical         1919\n",
       "illegal_moves     740\n",
       "horizontal        377\n",
       "diagonal          164\n",
       "Name: done_type, dtype: int64"
      ]
     },
     "execution_count": 8,
     "metadata": {},
     "output_type": "execute_result"
    }
   ],
   "source": [
    "df2['done_type'].value_counts()"
   ]
  },
  {
   "cell_type": "code",
   "execution_count": 9,
   "metadata": {},
   "outputs": [
    {
     "name": "stdout",
     "output_type": "stream",
     "text": [
      "1    1572\n",
      "2     888\n",
      "0     740\n",
      "Name: winner, dtype: int64\n"
     ]
    },
    {
     "data": {
      "text/plain": [
       "1    0.639024\n",
       "2    0.360976\n",
       "0    0.300813\n",
       "Name: winner, dtype: float64"
      ]
     },
     "execution_count": 9,
     "metadata": {},
     "output_type": "execute_result"
    }
   ],
   "source": [
    "print(df2['winner'].value_counts())\n",
    "win_percent = df2['winner'].value_counts() / (len(df2) - len(df2[df['done_type'] == 'illegal_moves']))\n",
    "win_percent"
   ]
  },
  {
   "cell_type": "code",
   "execution_count": 10,
   "metadata": {},
   "outputs": [
    {
     "data": {
      "text/html": [
       "<div>\n",
       "<style scoped>\n",
       "    .dataframe tbody tr th:only-of-type {\n",
       "        vertical-align: middle;\n",
       "    }\n",
       "\n",
       "    .dataframe tbody tr th {\n",
       "        vertical-align: top;\n",
       "    }\n",
       "\n",
       "    .dataframe thead th {\n",
       "        text-align: right;\n",
       "    }\n",
       "</style>\n",
       "<table border=\"1\" class=\"dataframe\">\n",
       "  <thead>\n",
       "    <tr style=\"text-align: right;\">\n",
       "      <th></th>\n",
       "      <th>player_1_reward</th>\n",
       "      <th>done_type</th>\n",
       "      <th>winner</th>\n",
       "    </tr>\n",
       "  </thead>\n",
       "  <tbody>\n",
       "    <tr>\n",
       "      <th>1</th>\n",
       "      <td>-1.0</td>\n",
       "      <td>diagonal</td>\n",
       "      <td>2</td>\n",
       "    </tr>\n",
       "    <tr>\n",
       "      <th>2</th>\n",
       "      <td>-1.0</td>\n",
       "      <td>horizontal</td>\n",
       "      <td>2</td>\n",
       "    </tr>\n",
       "    <tr>\n",
       "      <th>3</th>\n",
       "      <td>-1.0</td>\n",
       "      <td>vertical</td>\n",
       "      <td>2</td>\n",
       "    </tr>\n",
       "    <tr>\n",
       "      <th>8</th>\n",
       "      <td>-1.0</td>\n",
       "      <td>vertical</td>\n",
       "      <td>2</td>\n",
       "    </tr>\n",
       "    <tr>\n",
       "      <th>11</th>\n",
       "      <td>-1.0</td>\n",
       "      <td>diagonal</td>\n",
       "      <td>2</td>\n",
       "    </tr>\n",
       "    <tr>\n",
       "      <th>...</th>\n",
       "      <td>...</td>\n",
       "      <td>...</td>\n",
       "      <td>...</td>\n",
       "    </tr>\n",
       "    <tr>\n",
       "      <th>3018</th>\n",
       "      <td>-1.0</td>\n",
       "      <td>vertical</td>\n",
       "      <td>2</td>\n",
       "    </tr>\n",
       "    <tr>\n",
       "      <th>3021</th>\n",
       "      <td>-1.0</td>\n",
       "      <td>vertical</td>\n",
       "      <td>2</td>\n",
       "    </tr>\n",
       "    <tr>\n",
       "      <th>3045</th>\n",
       "      <td>-1.0</td>\n",
       "      <td>vertical</td>\n",
       "      <td>2</td>\n",
       "    </tr>\n",
       "    <tr>\n",
       "      <th>3048</th>\n",
       "      <td>-1.0</td>\n",
       "      <td>vertical</td>\n",
       "      <td>2</td>\n",
       "    </tr>\n",
       "    <tr>\n",
       "      <th>3116</th>\n",
       "      <td>-1.0</td>\n",
       "      <td>vertical</td>\n",
       "      <td>2</td>\n",
       "    </tr>\n",
       "  </tbody>\n",
       "</table>\n",
       "<p>888 rows × 3 columns</p>\n",
       "</div>"
      ],
      "text/plain": [
       "      player_1_reward   done_type  winner\n",
       "1                -1.0    diagonal       2\n",
       "2                -1.0  horizontal       2\n",
       "3                -1.0    vertical       2\n",
       "8                -1.0    vertical       2\n",
       "11               -1.0    diagonal       2\n",
       "...               ...         ...     ...\n",
       "3018             -1.0    vertical       2\n",
       "3021             -1.0    vertical       2\n",
       "3045             -1.0    vertical       2\n",
       "3048             -1.0    vertical       2\n",
       "3116             -1.0    vertical       2\n",
       "\n",
       "[888 rows x 3 columns]"
      ]
     },
     "execution_count": 10,
     "metadata": {},
     "output_type": "execute_result"
    }
   ],
   "source": [
    "illegal_move_reward = -5\n",
    "df2[df2['player_1_reward'] <= -1]"
   ]
  },
  {
   "cell_type": "code",
   "execution_count": 11,
   "metadata": {},
   "outputs": [
    {
     "data": {
      "text/plain": [
       "0.214765625"
      ]
     },
     "execution_count": 11,
     "metadata": {},
     "output_type": "execute_result"
    }
   ],
   "source": [
    "# Get the average reward\n",
    "df2['player_1_reward'].mean()"
   ]
  },
  {
   "cell_type": "markdown",
   "metadata": {},
   "source": [
    "# ~15000 episodes with opponent lagging 3 policies behind\n",
    "Because I had to abort the training and had falsy added history-checkpoint, the history's corrupted. Instead I tested the agent against a random player for 600 episodes"
   ]
  },
  {
   "cell_type": "code",
   "execution_count": 12,
   "metadata": {},
   "outputs": [
    {
     "name": "stdout",
     "output_type": "stream",
     "text": [
      "610 610 610 610\n"
     ]
    }
   ],
   "source": [
    "df = create_df_from_history_ins(14)\n",
    "df2 = df.drop(columns=['final_state'])"
   ]
  },
  {
   "cell_type": "code",
   "execution_count": 13,
   "metadata": {},
   "outputs": [
    {
     "data": {
      "text/plain": [
       "vertical         404\n",
       "illegal_moves    148\n",
       "horizontal        36\n",
       "diagonal          22\n",
       "Name: done_type, dtype: int64"
      ]
     },
     "execution_count": 13,
     "metadata": {},
     "output_type": "execute_result"
    }
   ],
   "source": [
    "df2['done_type'].value_counts()"
   ]
  },
  {
   "cell_type": "code",
   "execution_count": 14,
   "metadata": {},
   "outputs": [
    {
     "name": "stdout",
     "output_type": "stream",
     "text": [
      "1    402\n",
      "0    148\n",
      "2     60\n",
      "Name: winner, dtype: int64\n"
     ]
    },
    {
     "data": {
      "text/plain": [
       "1    0.870130\n",
       "0    0.320346\n",
       "2    0.129870\n",
       "Name: winner, dtype: float64"
      ]
     },
     "execution_count": 14,
     "metadata": {},
     "output_type": "execute_result"
    }
   ],
   "source": [
    "print(df2['winner'].value_counts())\n",
    "win_percent = df2['winner'].value_counts() / (len(df2) - len(df2[df['done_type'] == 'illegal_moves']))\n",
    "win_percent"
   ]
  },
  {
   "cell_type": "code",
   "execution_count": 15,
   "metadata": {},
   "outputs": [
    {
     "data": {
      "text/html": [
       "<div>\n",
       "<style scoped>\n",
       "    .dataframe tbody tr th:only-of-type {\n",
       "        vertical-align: middle;\n",
       "    }\n",
       "\n",
       "    .dataframe tbody tr th {\n",
       "        vertical-align: top;\n",
       "    }\n",
       "\n",
       "    .dataframe thead th {\n",
       "        text-align: right;\n",
       "    }\n",
       "</style>\n",
       "<table border=\"1\" class=\"dataframe\">\n",
       "  <thead>\n",
       "    <tr style=\"text-align: right;\">\n",
       "      <th></th>\n",
       "      <th>player_1_reward</th>\n",
       "      <th>done_type</th>\n",
       "      <th>winner</th>\n",
       "    </tr>\n",
       "  </thead>\n",
       "  <tbody>\n",
       "  </tbody>\n",
       "</table>\n",
       "</div>"
      ],
      "text/plain": [
       "Empty DataFrame\n",
       "Columns: [player_1_reward, done_type, winner]\n",
       "Index: []"
      ]
     },
     "execution_count": 15,
     "metadata": {},
     "output_type": "execute_result"
    }
   ],
   "source": [
    "illegal_move_reward = -5\n",
    "df2[df2['player_1_reward'] <= illegal_move_reward]"
   ]
  },
  {
   "cell_type": "markdown",
   "metadata": {},
   "source": [
    "# Trained agent for ~4000 episodes after fixing illegal_action-reward\n",
    "Vertical victory is also reduced to a reward of 0.5, instead of 0.75"
   ]
  },
  {
   "cell_type": "code",
   "execution_count": 16,
   "metadata": {},
   "outputs": [
    {
     "name": "stdout",
     "output_type": "stream",
     "text": [
      "3760 3760 3760 3760\n"
     ]
    }
   ],
   "source": [
    "df = create_df_from_history_ins(15)\n",
    "df2 = df.drop(columns=['final_state'])"
   ]
  },
  {
   "cell_type": "code",
   "execution_count": 17,
   "metadata": {},
   "outputs": [
    {
     "data": {
      "text/plain": [
       "vertical        2266\n",
       "horizontal       774\n",
       "illegal_move     595\n",
       "diagonal         125\n",
       "Name: done_type, dtype: int64"
      ]
     },
     "execution_count": 17,
     "metadata": {},
     "output_type": "execute_result"
    }
   ],
   "source": [
    "df2['done_type'].value_counts()"
   ]
  },
  {
   "cell_type": "markdown",
   "metadata": {},
   "source": [
    "Kept training the agent for ~6200 more episodes"
   ]
  },
  {
   "cell_type": "code",
   "execution_count": 18,
   "metadata": {},
   "outputs": [
    {
     "name": "stdout",
     "output_type": "stream",
     "text": [
      "6200 6200 6200 6200\n"
     ]
    }
   ],
   "source": [
    "df = create_df_from_history_ins(16)\n",
    "df2 = df.drop(columns=['final_state'])"
   ]
  },
  {
   "cell_type": "markdown",
   "metadata": {},
   "source": [
    "There is an increase in horizontal wins, but vertical's still superior"
   ]
  },
  {
   "cell_type": "code",
   "execution_count": 19,
   "metadata": {},
   "outputs": [
    {
     "data": {
      "text/plain": [
       "vertical        4317\n",
       "illegal_move    1103\n",
       "horizontal       722\n",
       "diagonal          58\n",
       "Name: done_type, dtype: int64"
      ]
     },
     "execution_count": 19,
     "metadata": {},
     "output_type": "execute_result"
    }
   ],
   "source": [
    "df2['done_type'].value_counts()"
   ]
  },
  {
   "cell_type": "code",
   "execution_count": 25,
   "metadata": {},
   "outputs": [
    {
     "name": "stdout",
     "output_type": "stream",
     "text": [
      "2    2781\n",
      "1    2316\n",
      "0    1103\n",
      "Name: winner, dtype: int64\n"
     ]
    },
    {
     "data": {
      "text/plain": [
       "2    0.545615\n",
       "1    0.454385\n",
       "0    0.216402\n",
       "Name: winner, dtype: float64"
      ]
     },
     "execution_count": 25,
     "metadata": {},
     "output_type": "execute_result"
    }
   ],
   "source": [
    "print(df2['winner'].value_counts())\n",
    "win_percent = df2['winner'].value_counts() / (len(df2) - len(df2[df['done_type'] == 'illegal_move']))\n",
    "win_percent"
   ]
  },
  {
   "cell_type": "markdown",
   "metadata": {},
   "source": [
    "336 illegal moves, not good"
   ]
  },
  {
   "cell_type": "code",
   "execution_count": 238,
   "metadata": {},
   "outputs": [
    {
     "data": {
      "text/plain": [
       "player_1_reward    336\n",
       "done_type          336\n",
       "winner             336\n",
       "dtype: int64"
      ]
     },
     "execution_count": 238,
     "metadata": {},
     "output_type": "execute_result"
    }
   ],
   "source": [
    "illegal_move_reward = -5\n",
    "df2[df2['player_1_reward'] <= illegal_move_reward].count()"
   ]
  },
  {
   "cell_type": "markdown",
   "metadata": {},
   "source": [
    "Although the results doesn't seem that good, it's a lot better when you play against it than before! Let's try it against a random agent"
   ]
  },
  {
   "cell_type": "code",
   "execution_count": 239,
   "metadata": {},
   "outputs": [
    {
     "name": "stdout",
     "output_type": "stream",
     "text": [
      "610 610 610 610\n"
     ]
    }
   ],
   "source": [
    "df = create_df_from_history_ins(17)\n",
    "df2 = df.drop(columns=['final_state'])"
   ]
  },
  {
   "cell_type": "code",
   "execution_count": 240,
   "metadata": {},
   "outputs": [
    {
     "data": {
      "text/plain": [
       "vertical        352\n",
       "horizontal      142\n",
       "illegal_move     79\n",
       "diagonal         37\n",
       "Name: done_type, dtype: int64"
      ]
     },
     "execution_count": 240,
     "metadata": {},
     "output_type": "execute_result"
    }
   ],
   "source": [
    "df2['done_type'].value_counts()"
   ]
  },
  {
   "cell_type": "code",
   "execution_count": 26,
   "metadata": {},
   "outputs": [
    {
     "name": "stdout",
     "output_type": "stream",
     "text": [
      "2    2781\n",
      "1    2316\n",
      "0    1103\n",
      "Name: winner, dtype: int64\n"
     ]
    },
    {
     "data": {
      "text/plain": [
       "2    0.545615\n",
       "1    0.454385\n",
       "0    0.216402\n",
       "Name: winner, dtype: float64"
      ]
     },
     "execution_count": 26,
     "metadata": {},
     "output_type": "execute_result"
    }
   ],
   "source": [
    "print(df2['winner'].value_counts())\n",
    "win_percent = df2['winner'].value_counts() / (len(df2) - len(df2[df['done_type'] == 'illegal_move']))\n",
    "win_percent"
   ]
  },
  {
   "cell_type": "markdown",
   "metadata": {},
   "source": [
    "The trained agent only wins 56% of the games against the random agent. Does it do better against an earlier version of itself? This might have been with weight_13 and not weight_14 as wanted"
   ]
  },
  {
   "cell_type": "markdown",
   "metadata": {},
   "source": [
    "# Trained overnight with same setup as over"
   ]
  },
  {
   "cell_type": "code",
   "execution_count": 27,
   "metadata": {},
   "outputs": [
    {
     "name": "stdout",
     "output_type": "stream",
     "text": [
      "24500 24500 24500 24500\n"
     ]
    }
   ],
   "source": [
    "df = create_df_from_history_ins(18)\n",
    "df2 = df.drop(columns=['final_state'])"
   ]
  },
  {
   "cell_type": "code",
   "execution_count": 28,
   "metadata": {},
   "outputs": [
    {
     "data": {
      "text/plain": [
       "vertical        20701\n",
       "illegal_move     3113\n",
       "horizontal        634\n",
       "diagonal           52\n",
       "Name: done_type, dtype: int64"
      ]
     },
     "execution_count": 28,
     "metadata": {},
     "output_type": "execute_result"
    }
   ],
   "source": [
    "df2['done_type'].value_counts()"
   ]
  },
  {
   "cell_type": "code",
   "execution_count": 29,
   "metadata": {},
   "outputs": [
    {
     "name": "stdout",
     "output_type": "stream",
     "text": [
      "1    13379\n",
      "2     8008\n",
      "0     3113\n",
      "Name: winner, dtype: int64\n"
     ]
    },
    {
     "data": {
      "text/plain": [
       "1    0.625567\n",
       "2    0.374433\n",
       "0    0.145556\n",
       "Name: winner, dtype: float64"
      ]
     },
     "execution_count": 29,
     "metadata": {},
     "output_type": "execute_result"
    }
   ],
   "source": [
    "print(df2['winner'].value_counts())\n",
    "win_percent = df2['winner'].value_counts() / (len(df2) - len(df2[df['done_type'] == 'illegal_move']))\n",
    "win_percent"
   ]
  },
  {
   "cell_type": "markdown",
   "metadata": {},
   "source": [
    "The agent unfortunately overfits to the vertical strategy, it doesn't seem to have learned that it shouldn't take illegal moves neither.\n",
    "Training a new agent from scratch. Increasing the depth with 1 dense layer. Removing the possibility to choose a wrong action once -> Directly ends if wrong is chosen"
   ]
  },
  {
   "cell_type": "markdown",
   "metadata": {},
   "source": []
  }
 ],
 "metadata": {
  "interpreter": {
   "hash": "b70f6b30f9f28b8b068f01a30d81749322198d4d744969b4373135fb44d4e5bb"
  },
  "kernelspec": {
   "display_name": "Python 3.7.9 ('venv': venv)",
   "language": "python",
   "name": "python3"
  },
  "language_info": {
   "codemirror_mode": {
    "name": "ipython",
    "version": 3
   },
   "file_extension": ".py",
   "mimetype": "text/x-python",
   "name": "python",
   "nbconvert_exporter": "python",
   "pygments_lexer": "ipython3",
   "version": "3.7.9"
  },
  "orig_nbformat": 4
 },
 "nbformat": 4,
 "nbformat_minor": 2
}
