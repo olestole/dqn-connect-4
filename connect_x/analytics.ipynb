{
 "cells": [
  {
   "cell_type": "code",
   "execution_count": 106,
   "metadata": {},
   "outputs": [],
   "source": [
    "from matplotlib import pyplot as plt\n",
    "import pickle\n",
    "import os\n",
    "from history import History\n",
    "import pandas as pd"
   ]
  },
  {
   "cell_type": "code",
   "execution_count": 107,
   "metadata": {},
   "outputs": [],
   "source": [
    "HISTORY_DIR = \"../history\""
   ]
  },
  {
   "cell_type": "code",
   "execution_count": 108,
   "metadata": {},
   "outputs": [],
   "source": [
    "def create_df_from_history_ins(history_ins: int):\n",
    "    FILE_PATH = f\"{history_ins}_history.pkl\"\n",
    "    history_path = os.path.join(HISTORY_DIR, FILE_PATH)\n",
    "    f = open(history_path, \"rb\")\n",
    "    history = pickle.load(f)\n",
    "    player_1_reward = history.get(\"player_1_reward\")\n",
    "    final_state = history.get(\"final_state\")\n",
    "    done_type = history.get(\"done_type\")\n",
    "    winner = history.get(\"winner\")\n",
    "\n",
    "    print(len(player_1_reward), len(final_state), len(done_type), len(winner))\n",
    "\n",
    "    df = pd.DataFrame({\n",
    "        \"player_1_reward\": player_1_reward,\n",
    "        \"final_state\": final_state,\n",
    "        \"done_type\": done_type,\n",
    "        \"winner\": winner\n",
    "    })\n",
    "    return df\n"
   ]
  },
  {
   "cell_type": "markdown",
   "metadata": {},
   "source": [
    "# Training agent against random agent for 300 episodes"
   ]
  },
  {
   "cell_type": "code",
   "execution_count": 125,
   "metadata": {},
   "outputs": [
    {
     "name": "stdout",
     "output_type": "stream",
     "text": [
      "450 450 450 450\n"
     ]
    }
   ],
   "source": [
    "df = create_df_from_history_ins(6)\n",
    "df2 = df.drop(columns=['final_state'])"
   ]
  },
  {
   "cell_type": "markdown",
   "metadata": {},
   "source": [
    "Most of all the wins are **vertical wins**\n",
    "\n",
    "Still a lot of **illegal_moves** -> Hasn't learned to not play correctly, migth be player_2"
   ]
  },
  {
   "cell_type": "code",
   "execution_count": 126,
   "metadata": {},
   "outputs": [
    {
     "data": {
      "text/plain": [
       "vertical         298\n",
       "illegal_moves     89\n",
       "horizontal        51\n",
       "diagonal          12\n",
       "Name: done_type, dtype: int64"
      ]
     },
     "execution_count": 126,
     "metadata": {},
     "output_type": "execute_result"
    }
   ],
   "source": [
    "df2['done_type'].value_counts()"
   ]
  },
  {
   "cell_type": "markdown",
   "metadata": {},
   "source": [
    "Agent 1, who also starts, wins 54.3% of the games not being ended due to illegal_moves"
   ]
  },
  {
   "cell_type": "code",
   "execution_count": 127,
   "metadata": {},
   "outputs": [
    {
     "name": "stdout",
     "output_type": "stream",
     "text": [
      "1    196\n",
      "2    165\n",
      "0     89\n",
      "Name: winner, dtype: int64\n"
     ]
    },
    {
     "data": {
      "text/plain": [
       "1    0.542936\n",
       "2    0.457064\n",
       "0    0.246537\n",
       "Name: winner, dtype: float64"
      ]
     },
     "execution_count": 127,
     "metadata": {},
     "output_type": "execute_result"
    }
   ],
   "source": [
    "print(df2['winner'].value_counts())\n",
    "win_percent = df2['winner'].value_counts() / (len(df2) - len(df2[df['done_type'] == 'illegal_moves']))\n",
    "win_percent"
   ]
  },
  {
   "cell_type": "markdown",
   "metadata": {},
   "source": [
    "40 of the 89 *illegal_moves*, 45%, are done by player 1."
   ]
  },
  {
   "cell_type": "code",
   "execution_count": 130,
   "metadata": {},
   "outputs": [
    {
     "name": "stdout",
     "output_type": "stream",
     "text": [
      "player_1_reward    40\n",
      "done_type          40\n",
      "winner             40\n",
      "dtype: int64\n"
     ]
    },
    {
     "data": {
      "text/plain": [
       "player_1_reward    0.449438\n",
       "done_type          0.449438\n",
       "winner             0.449438\n",
       "dtype: float64"
      ]
     },
     "execution_count": 130,
     "metadata": {},
     "output_type": "execute_result"
    }
   ],
   "source": [
    "illegal = df2[(df2['done_type'] == 'illegal_moves') & (df2['player_1_reward'] == -1)].count()\n",
    "illegal_percent = illegal / len(df2[df2['done_type'] == 'illegal_moves'])\n",
    "print(illegal)\n",
    "illegal_percent\n"
   ]
  },
  {
   "cell_type": "markdown",
   "metadata": {},
   "source": [
    "# Run 1000 episodes w/training_agent starting with weights main_6_200 and opponent main_6_100"
   ]
  },
  {
   "cell_type": "code",
   "execution_count": 131,
   "metadata": {},
   "outputs": [
    {
     "name": "stdout",
     "output_type": "stream",
     "text": [
      "1100 1100 1100 1100\n"
     ]
    }
   ],
   "source": [
    "history_instance = 7\n",
    "df = create_df_from_history_ins(history_instance)\n",
    "df2 = df.drop(columns=['final_state'])"
   ]
  },
  {
   "cell_type": "code",
   "execution_count": 132,
   "metadata": {},
   "outputs": [
    {
     "data": {
      "text/plain": [
       "vertical         735\n",
       "horizontal       168\n",
       "illegal_moves    155\n",
       "diagonal          42\n",
       "Name: done_type, dtype: int64"
      ]
     },
     "execution_count": 132,
     "metadata": {},
     "output_type": "execute_result"
    }
   ],
   "source": [
    "df2['done_type'].value_counts()"
   ]
  },
  {
   "cell_type": "code",
   "execution_count": 133,
   "metadata": {},
   "outputs": [
    {
     "name": "stdout",
     "output_type": "stream",
     "text": [
      "1    554\n",
      "2    391\n",
      "0    155\n",
      "Name: winner, dtype: int64\n"
     ]
    },
    {
     "data": {
      "text/plain": [
       "1    0.586243\n",
       "2    0.413757\n",
       "0    0.164021\n",
       "Name: winner, dtype: float64"
      ]
     },
     "execution_count": 133,
     "metadata": {},
     "output_type": "execute_result"
    }
   ],
   "source": [
    "print(df2['winner'].value_counts())\n",
    "win_percent = df2['winner'].value_counts() / (len(df2) - len(df2[df['done_type'] == 'illegal_moves']))\n",
    "win_percent"
   ]
  },
  {
   "cell_type": "markdown",
   "metadata": {},
   "source": [
    "Player 1 only made 40% of the illegal_moves"
   ]
  },
  {
   "cell_type": "code",
   "execution_count": 135,
   "metadata": {},
   "outputs": [
    {
     "name": "stdout",
     "output_type": "stream",
     "text": [
      "player_1_reward    63\n",
      "done_type          63\n",
      "winner             63\n",
      "dtype: int64\n"
     ]
    },
    {
     "data": {
      "text/plain": [
       "player_1_reward    0.406452\n",
       "done_type          0.406452\n",
       "winner             0.406452\n",
       "dtype: float64"
      ]
     },
     "execution_count": 135,
     "metadata": {},
     "output_type": "execute_result"
    }
   ],
   "source": [
    "illegal = df2[(df2['done_type'] == 'illegal_moves') & (df2['player_1_reward'] == -1)].count()\n",
    "illegal_percent = illegal / len(df2[df2['done_type'] == 'illegal_moves'])\n",
    "print(illegal)\n",
    "illegal_percent\n"
   ]
  },
  {
   "cell_type": "code",
   "execution_count": 139,
   "metadata": {},
   "outputs": [
    {
     "data": {
      "text/plain": [
       "player_1_reward\n",
       " 1                 554\n",
       "-1                 454\n",
       " 0                  92\n",
       "dtype: int64"
      ]
     },
     "execution_count": 139,
     "metadata": {},
     "output_type": "execute_result"
    }
   ],
   "source": [
    "df2[['player_1_reward']].value_counts()"
   ]
  },
  {
   "cell_type": "markdown",
   "metadata": {},
   "source": [
    "# 3000 episodes, opponent starts with policy 900 episodes prior"
   ]
  },
  {
   "cell_type": "code",
   "execution_count": 140,
   "metadata": {},
   "outputs": [
    {
     "name": "stdout",
     "output_type": "stream",
     "text": [
      "3110 3110 3110 3110\n"
     ]
    }
   ],
   "source": [
    "history_instance = 8\n",
    "df = create_df_from_history_ins(history_instance)\n",
    "df2 = df.drop(columns=['final_state'])"
   ]
  },
  {
   "cell_type": "markdown",
   "metadata": {},
   "source": []
  },
  {
   "cell_type": "code",
   "execution_count": 141,
   "metadata": {},
   "outputs": [
    {
     "data": {
      "text/plain": [
       "vertical         2375\n",
       "illegal_moves     360\n",
       "horizontal        335\n",
       "diagonal           40\n",
       "Name: done_type, dtype: int64"
      ]
     },
     "execution_count": 141,
     "metadata": {},
     "output_type": "execute_result"
    }
   ],
   "source": [
    "df2['done_type'].value_counts()"
   ]
  },
  {
   "cell_type": "code",
   "execution_count": 142,
   "metadata": {},
   "outputs": [
    {
     "name": "stdout",
     "output_type": "stream",
     "text": [
      "1    2194\n",
      "2     556\n",
      "0     360\n",
      "Name: winner, dtype: int64\n"
     ]
    },
    {
     "data": {
      "text/plain": [
       "1    0.797818\n",
       "2    0.202182\n",
       "0    0.130909\n",
       "Name: winner, dtype: float64"
      ]
     },
     "execution_count": 142,
     "metadata": {},
     "output_type": "execute_result"
    }
   ],
   "source": [
    "print(df2['winner'].value_counts())\n",
    "win_percent = df2['winner'].value_counts() / (len(df2) - len(df2[df['done_type'] == 'illegal_moves']))\n",
    "win_percent"
   ]
  },
  {
   "cell_type": "code",
   "execution_count": 143,
   "metadata": {},
   "outputs": [
    {
     "name": "stdout",
     "output_type": "stream",
     "text": [
      "player_1_reward    175\n",
      "done_type          175\n",
      "winner             175\n",
      "dtype: int64\n"
     ]
    },
    {
     "data": {
      "text/plain": [
       "player_1_reward    0.486111\n",
       "done_type          0.486111\n",
       "winner             0.486111\n",
       "dtype: float64"
      ]
     },
     "execution_count": 143,
     "metadata": {},
     "output_type": "execute_result"
    }
   ],
   "source": [
    "illegal = df2[(df2['done_type'] == 'illegal_moves') & (df2['player_1_reward'] == -1)].count()\n",
    "illegal_percent = illegal / len(df2[df2['done_type'] == 'illegal_moves'])\n",
    "print(illegal)\n",
    "illegal_percent\n"
   ]
  },
  {
   "cell_type": "markdown",
   "metadata": {},
   "source": [
    "# Test 500 episodes against random agent"
   ]
  },
  {
   "cell_type": "code",
   "execution_count": 147,
   "metadata": {},
   "outputs": [
    {
     "name": "stdout",
     "output_type": "stream",
     "text": [
      "500 500 500 500\n"
     ]
    }
   ],
   "source": [
    "history_instance = 9\n",
    "df = create_df_from_history_ins(history_instance)\n",
    "df2 = df.drop(columns=['final_state'])"
   ]
  },
  {
   "cell_type": "markdown",
   "metadata": {},
   "source": []
  },
  {
   "cell_type": "code",
   "execution_count": 148,
   "metadata": {},
   "outputs": [
    {
     "data": {
      "text/plain": [
       "vertical         432\n",
       "illegal_moves     43\n",
       "horizontal        23\n",
       "diagonal           2\n",
       "Name: done_type, dtype: int64"
      ]
     },
     "execution_count": 148,
     "metadata": {},
     "output_type": "execute_result"
    }
   ],
   "source": [
    "df2['done_type'].value_counts()"
   ]
  },
  {
   "cell_type": "markdown",
   "metadata": {},
   "source": [
    "The trained agent wins 82.5% of the times against the random agent"
   ]
  },
  {
   "cell_type": "code",
   "execution_count": 149,
   "metadata": {},
   "outputs": [
    {
     "name": "stdout",
     "output_type": "stream",
     "text": [
      "1    377\n",
      "2     80\n",
      "0     43\n",
      "Name: winner, dtype: int64\n"
     ]
    },
    {
     "data": {
      "text/plain": [
       "1    0.824945\n",
       "2    0.175055\n",
       "0    0.094092\n",
       "Name: winner, dtype: float64"
      ]
     },
     "execution_count": 149,
     "metadata": {},
     "output_type": "execute_result"
    }
   ],
   "source": [
    "print(df2['winner'].value_counts())\n",
    "win_percent = df2['winner'].value_counts() / (len(df2) - len(df2[df['done_type'] == 'illegal_moves']))\n",
    "win_percent"
   ]
  }
 ],
 "metadata": {
  "interpreter": {
   "hash": "b70f6b30f9f28b8b068f01a30d81749322198d4d744969b4373135fb44d4e5bb"
  },
  "kernelspec": {
   "display_name": "Python 3.7.9 ('venv': venv)",
   "language": "python",
   "name": "python3"
  },
  "language_info": {
   "codemirror_mode": {
    "name": "ipython",
    "version": 3
   },
   "file_extension": ".py",
   "mimetype": "text/x-python",
   "name": "python",
   "nbconvert_exporter": "python",
   "pygments_lexer": "ipython3",
   "version": "3.7.9"
  },
  "orig_nbformat": 4
 },
 "nbformat": 4,
 "nbformat_minor": 2
}
